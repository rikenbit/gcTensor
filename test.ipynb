{
 "cells": [
  {
   "cell_type": "markdown",
   "metadata": {},
   "source": [
    "# Test code of GCTF Function"
   ]
  },
  {
   "cell_type": "markdown",
   "metadata": {},
   "source": [
    "## Dependent Packages Installation"
   ]
  },
  {
   "cell_type": "code",
   "execution_count": 1,
   "metadata": {},
   "outputs": [
    {
     "name": "stderr",
     "output_type": "stream",
     "text": [
      "Warning message:\n",
      "“package ‘testthat’ was built under R version 4.0.5”\n"
     ]
    }
   ],
   "source": [
    "if (!requireNamespace(\"rTensor\", quietly = TRUE)){\n",
    "    install.packages(\"rTensor\")\n",
    "}\n",
    "if (!requireNamespace(\"testthat\", quietly = TRUE)){\n",
    "    install.packages(\"testthat\")\n",
    "}\n",
    "\n",
    "library(\"rTensor\")\n",
    "library(\"testthat\")"
   ]
  },
  {
   "cell_type": "markdown",
   "metadata": {},
   "source": [
    "## GCTF Function (Paste your GCTF code here)"
   ]
  },
  {
   "cell_type": "code",
   "execution_count": 2,
   "metadata": {},
   "outputs": [],
   "source": [
    "GCTF <- function(X, R, M=NULL, initZ=NULL, fix=NULL, Ranks, Beta=1, num.iter=30, thr=1E-10, verbose=FALSE){\n",
    "    # Argument Check\n",
    "    # ...\n",
    "    # Setting\n",
    "    # ...\n",
    "    # Iteration\n",
    "    # ...\n",
    "    # Output\n",
    "    list(X=X, Z=NULL, R=R, Ranks=Ranks, Beta=Beta, num.iter=num.iter, thr=thr, RecError=NULL, RelChange=NULL)\n",
    "}"
   ]
  },
  {
   "cell_type": "markdown",
   "metadata": {},
   "source": [
    "## Simulation Datasets"
   ]
  },
  {
   "cell_type": "code",
   "execution_count": 3,
   "metadata": {},
   "outputs": [],
   "source": [
    "# I × J × K\n",
    "X1 <- rand_tensor(modes = c(4,5,6))\n",
    "X1 <- X1@data^2\n",
    "names(dim(X1)) <- c(\"I\", \"J\", \"K\")\n",
    "\n",
    "# I × P\n",
    "X2 <- matrix(runif(4*7), nrow=4, ncol=7)\n",
    "names(dim(X2)) <- c(\"I\", \"M\")\n",
    "\n",
    "# J × Q\n",
    "X3 <- matrix(runif(5*8), nrow=5, ncol=8)\n",
    "names(dim(X3)) <- c(\"J\", \"N\")\n",
    "\n",
    "# Coupled Tensor/Matrix\n",
    "X <- list(X1 = X1, X2 = X2, X3 = X3)\n",
    "\n",
    "# Coupling matrix R（CP）\n",
    "R_CP <- rbind(\n",
    "    c(1,1,1,0,0),\n",
    "    c(1,0,0,1,0),\n",
    "    c(0,1,0,0,1)\n",
    ")\n",
    "rownames(R_CP) <- paste0(\"X\", seq(3))\n",
    "colnames(R_CP) <- LETTERS[seq(5)]\n",
    "\n",
    "# Size of Factor matrices (CP)\n",
    "Ranks_CP <- list(\n",
    "    A=list(I=4, r=3),\n",
    "    B=list(J=5, r=3),\n",
    "    C=list(K=6, r=3),\n",
    "    D=list(M=7, r=3),\n",
    "    E=list(N=8, r=3))\n",
    "\n",
    "# Coupling matrix R（Tucker）\n",
    "R_Tucker <- rbind(\n",
    "    c(1,1,1,1,0,0),\n",
    "    c(1,0,0,0,1,0),\n",
    "    c(0,1,0,0,0,1)\n",
    ")\n",
    "rownames(R_Tucker) <- paste0(\"X\", seq(3))\n",
    "colnames(R_Tucker) <- LETTERS[seq(6)]\n",
    "\n",
    "# Size of Factor matrices (Tucker)\n",
    "Ranks_Tucker <- list(\n",
    "    A=list(I=4, p=3),\n",
    "    B=list(J=5, q=4),\n",
    "    C=list(K=6, r=5),\n",
    "    D=list(p=3, q=4, r=5),\n",
    "    E=list(M=7, p=3),\n",
    "    F=list(N=8, q=4))"
   ]
  },
  {
   "cell_type": "markdown",
   "metadata": {},
   "source": [
    "## Perform GCTF against Simulation Datasets"
   ]
  },
  {
   "cell_type": "code",
   "execution_count": 4,
   "metadata": {},
   "outputs": [],
   "source": [
    "# CP\n",
    "out.CP_EUC <- GCTF(X, R_CP, Ranks=Ranks_CP, Beta=0)\n",
    "out.CP_KL <- GCTF(X, R_CP, Ranks=Ranks_CP, Beta=1)\n",
    "out.CP_IS <- GCTF(X, R_CP, Ranks=Ranks_CP, Beta=2)\n",
    "\n",
    "# Tucker\n",
    "out.Tucker_EUC <- GCTF(X, R_Tucker, Ranks=Ranks_Tucker, Beta=0)\n",
    "out.Tucker_KL <- GCTF(X, R_Tucker, Ranks=Ranks_Tucker, Beta=1)\n",
    "out.Tucker_IS <- GCTF(X, R_Tucker, Ranks=Ranks_Tucker, Beta=2)"
   ]
  },
  {
   "cell_type": "markdown",
   "metadata": {},
   "source": [
    "## Unit Tests by Synthetic datasets"
   ]
  },
  {
   "cell_type": "markdown",
   "metadata": {},
   "source": [
    "### Test Input object / type"
   ]
  },
  {
   "cell_type": "markdown",
   "metadata": {},
   "source": [
    "#### Test I-1: Object Names"
   ]
  },
  {
   "cell_type": "code",
   "execution_count": 5,
   "metadata": {},
   "outputs": [],
   "source": [
    "expect_identical(names(formals(GCTF)), c(\"X\", \"R\", \"M\", \"initZ\", \"fix\", \"Ranks\", \"Beta\", \"num.iter\", \"thr\", \"verbose\"))"
   ]
  },
  {
   "cell_type": "markdown",
   "metadata": {},
   "source": [
    "#### Test I-2: X"
   ]
  },
  {
   "cell_type": "code",
   "execution_count": 6,
   "metadata": {},
   "outputs": [],
   "source": [
    "expect_identical(as.character(formals(GCTF)$X), \"\")"
   ]
  },
  {
   "cell_type": "markdown",
   "metadata": {},
   "source": [
    "#### Test I-3: R"
   ]
  },
  {
   "cell_type": "code",
   "execution_count": 7,
   "metadata": {},
   "outputs": [],
   "source": [
    "expect_identical(as.character(formals(GCTF)$R), \"\")"
   ]
  },
  {
   "cell_type": "markdown",
   "metadata": {},
   "source": [
    "#### Test I-4: M"
   ]
  },
  {
   "cell_type": "code",
   "execution_count": 8,
   "metadata": {},
   "outputs": [],
   "source": [
    "expect_identical(formals(GCTF)$M, NULL)"
   ]
  },
  {
   "cell_type": "markdown",
   "metadata": {},
   "source": [
    "#### Test I-5: initZ"
   ]
  },
  {
   "cell_type": "code",
   "execution_count": 9,
   "metadata": {},
   "outputs": [],
   "source": [
    "expect_identical(formals(GCTF)$initZ, NULL)"
   ]
  },
  {
   "cell_type": "markdown",
   "metadata": {},
   "source": [
    "#### Test I-6: fix"
   ]
  },
  {
   "cell_type": "code",
   "execution_count": 10,
   "metadata": {},
   "outputs": [],
   "source": [
    "expect_identical(formals(GCTF)$fix, NULL)"
   ]
  },
  {
   "cell_type": "markdown",
   "metadata": {},
   "source": [
    "#### Test I-7: Ranks"
   ]
  },
  {
   "cell_type": "code",
   "execution_count": 11,
   "metadata": {},
   "outputs": [],
   "source": [
    "expect_identical(as.character(formals(GCTF)$Ranks), \"\")"
   ]
  },
  {
   "cell_type": "markdown",
   "metadata": {},
   "source": [
    "#### Test I-8: Beta"
   ]
  },
  {
   "cell_type": "code",
   "execution_count": 12,
   "metadata": {},
   "outputs": [],
   "source": [
    "expect_identical(formals(GCTF)$Beta, 1)"
   ]
  },
  {
   "cell_type": "markdown",
   "metadata": {},
   "source": [
    "#### Test I-9: num.iter"
   ]
  },
  {
   "cell_type": "code",
   "execution_count": 13,
   "metadata": {},
   "outputs": [],
   "source": [
    "expect_identical(formals(GCTF)$num.iter, 30)"
   ]
  },
  {
   "cell_type": "markdown",
   "metadata": {},
   "source": [
    "#### Test I-10: thr"
   ]
  },
  {
   "cell_type": "code",
   "execution_count": 14,
   "metadata": {},
   "outputs": [],
   "source": [
    "expect_identical(formals(GCTF)$thr, 1E-10)"
   ]
  },
  {
   "cell_type": "markdown",
   "metadata": {},
   "source": [
    "#### Test I-11: verbose"
   ]
  },
  {
   "cell_type": "code",
   "execution_count": 15,
   "metadata": {},
   "outputs": [],
   "source": [
    "expect_identical(formals(GCTF)$verbose, FALSE)"
   ]
  },
  {
   "cell_type": "markdown",
   "metadata": {},
   "source": [
    "### Test Output object / type"
   ]
  },
  {
   "cell_type": "markdown",
   "metadata": {},
   "source": [
    "#### Test O-1: Object"
   ]
  },
  {
   "cell_type": "code",
   "execution_count": 16,
   "metadata": {},
   "outputs": [],
   "source": [
    "# CP\n",
    "expect_identical(is.list(out.CP_EUC), TRUE)\n",
    "expect_identical(is.list(out.CP_KL), TRUE)\n",
    "expect_identical(is.list(out.CP_IS), TRUE)\n",
    "\n",
    "# Tucker\n",
    "expect_identical(is.list(out.Tucker_EUC), TRUE)\n",
    "expect_identical(is.list(out.Tucker_KL), TRUE)\n",
    "expect_identical(is.list(out.Tucker_IS), TRUE)"
   ]
  },
  {
   "cell_type": "markdown",
   "metadata": {},
   "source": [
    "#### Test O-2: Object Names"
   ]
  },
  {
   "cell_type": "code",
   "execution_count": 17,
   "metadata": {},
   "outputs": [],
   "source": [
    "# CP\n",
    "expect_identical(names(out.CP_EUC), c(\"X\", \"Z\", \"R\", \"Ranks\", \"Beta\", \"num.iter\", \"thr\", \"RecError\", \"RelChange\"))\n",
    "expect_identical(names(out.CP_KL), c(\"X\", \"Z\", \"R\", \"Ranks\", \"Beta\", \"num.iter\", \"thr\", \"RecError\", \"RelChange\"))\n",
    "expect_identical(names(out.CP_IS), c(\"X\", \"Z\", \"R\", \"Ranks\", \"Beta\", \"num.iter\", \"thr\", \"RecError\", \"RelChange\"))\n",
    "\n",
    "# Tucker\n",
    "expect_identical(names(out.Tucker_EUC), c(\"X\", \"Z\", \"R\", \"Ranks\", \"Beta\", \"num.iter\", \"thr\", \"RecError\", \"RelChange\"))\n",
    "expect_identical(names(out.Tucker_KL), c(\"X\", \"Z\", \"R\", \"Ranks\", \"Beta\", \"num.iter\", \"thr\", \"RecError\", \"RelChange\"))\n",
    "expect_identical(names(out.Tucker_IS), c(\"X\", \"Z\", \"R\", \"Ranks\", \"Beta\", \"num.iter\", \"thr\", \"RecError\", \"RelChange\"))"
   ]
  },
  {
   "cell_type": "markdown",
   "metadata": {},
   "source": [
    "#### Test O-3: X"
   ]
  },
  {
   "cell_type": "code",
   "execution_count": 18,
   "metadata": {},
   "outputs": [],
   "source": [
    "# CP\n",
    "expect_identical(out.CP_EUC$X, X)\n",
    "expect_identical(out.CP_KL$X, X)\n",
    "expect_identical(out.CP_IS$X, X)\n",
    "\n",
    "# Tucker\n",
    "expect_identical(out.Tucker_EUC$X, X)\n",
    "expect_identical(out.Tucker_KL$X, X)\n",
    "expect_identical(out.Tucker_IS$X, X)"
   ]
  },
  {
   "cell_type": "markdown",
   "metadata": {},
   "source": [
    "#### Test O-4: Z"
   ]
  },
  {
   "cell_type": "code",
   "execution_count": 19,
   "metadata": {},
   "outputs": [
    {
     "ename": "ERROR",
     "evalue": "Error: is.list(out.CP_EUC$Z) not identical to TRUE.\n1 element mismatch\n",
     "output_type": "error",
     "traceback": [
      "Error: is.list(out.CP_EUC$Z) not identical to TRUE.\n1 element mismatch\nTraceback:\n",
      "1. expect_identical(is.list(out.CP_EUC$Z), TRUE)",
      "2. expect(ident, sprintf(\"%s not identical to %s.\\n%s\", act$lab, \n .     exp$lab, msg), info = info)",
      "3. exp_signal(exp)",
      "4. withRestarts(if (expectation_broken(exp)) {\n .     stop(exp)\n . } else {\n .     signalCondition(exp)\n . }, continue_test = function(e) NULL)",
      "5. withOneRestart(expr, restarts[[1L]])",
      "6. doWithOneRestart(return(expr), restart)"
     ]
    }
   ],
   "source": [
    "# CP\n",
    "expect_identical(is.list(out.CP_EUC$Z), TRUE)\n",
    "expect_identical(is.list(out.CP_KL$Z), TRUE)\n",
    "expect_identical(is.list(out.CP_IS$Z), TRUE)\n",
    "\n",
    "# Tucker\n",
    "expect_identical(is.list(out.Tucker_EUC$Z), TRUE)\n",
    "expect_identical(is.list(out.Tucker_KL$Z), TRUE)\n",
    "expect_identical(is.list(out.Tucker_IS$Z), TRUE)"
   ]
  },
  {
   "cell_type": "markdown",
   "metadata": {},
   "source": [
    "#### Test O-5: R"
   ]
  },
  {
   "cell_type": "code",
   "execution_count": 20,
   "metadata": {},
   "outputs": [],
   "source": [
    "# CP\n",
    "expect_identical(out.CP_EUC$R, R_CP)\n",
    "expect_identical(out.CP_KL$R, R_CP)\n",
    "expect_identical(out.CP_IS$R, R_CP)\n",
    "\n",
    "# Tucker\n",
    "expect_identical(out.Tucker_EUC$R, R_Tucker)\n",
    "expect_identical(out.Tucker_KL$R, R_Tucker)\n",
    "expect_identical(out.Tucker_IS$R, R_Tucker)"
   ]
  },
  {
   "cell_type": "markdown",
   "metadata": {},
   "source": [
    "#### Test O-6: Rank"
   ]
  },
  {
   "cell_type": "code",
   "execution_count": 21,
   "metadata": {},
   "outputs": [],
   "source": [
    "# CP\n",
    "expect_identical(out.CP_EUC$Ranks, Ranks_CP)\n",
    "expect_identical(out.CP_KL$Ranks, Ranks_CP)\n",
    "expect_identical(out.CP_IS$Ranks, Ranks_CP)\n",
    "\n",
    "# Tucker\n",
    "expect_identical(out.Tucker_EUC$Ranks, Ranks_Tucker)\n",
    "expect_identical(out.Tucker_KL$Ranks, Ranks_Tucker)\n",
    "expect_identical(out.Tucker_IS$Ranks, Ranks_Tucker)"
   ]
  },
  {
   "cell_type": "markdown",
   "metadata": {},
   "source": [
    "#### Test O-7: Beta"
   ]
  },
  {
   "cell_type": "code",
   "execution_count": 22,
   "metadata": {},
   "outputs": [],
   "source": [
    "# CP\n",
    "expect_identical(out.CP_EUC$Beta, 0)\n",
    "expect_identical(out.CP_KL$Beta, 1)\n",
    "expect_identical(out.CP_IS$Beta, 2)\n",
    "\n",
    "# Tucker\n",
    "expect_identical(out.Tucker_EUC$Beta, 0)\n",
    "expect_identical(out.Tucker_KL$Beta, 1)\n",
    "expect_identical(out.Tucker_IS$Beta, 2)"
   ]
  },
  {
   "cell_type": "markdown",
   "metadata": {},
   "source": [
    "#### Test O-8: num.iter"
   ]
  },
  {
   "cell_type": "code",
   "execution_count": 23,
   "metadata": {},
   "outputs": [],
   "source": [
    "# CP\n",
    "expect_identical(out.CP_EUC$iter, formals(GCTF)$iter)\n",
    "expect_identical(out.CP_KL$iter, formals(GCTF)$iter)\n",
    "expect_identical(out.CP_IS$iter, formals(GCTF)$iter)\n",
    "\n",
    "# Tucker\n",
    "expect_identical(out.Tucker_EUC$iter, formals(GCTF)$iter)\n",
    "expect_identical(out.Tucker_KL$iter, formals(GCTF)$iter)\n",
    "expect_identical(out.Tucker_IS$iter, formals(GCTF)$iter)"
   ]
  },
  {
   "cell_type": "markdown",
   "metadata": {},
   "source": [
    "#### Test O-9: thr"
   ]
  },
  {
   "cell_type": "code",
   "execution_count": 24,
   "metadata": {},
   "outputs": [],
   "source": [
    "# CP\n",
    "expect_identical(out.CP_EUC$thr, formals(GCTF)$thr)\n",
    "expect_identical(out.CP_KL$thr, formals(GCTF)$thr)\n",
    "expect_identical(out.CP_IS$thr, formals(GCTF)$thr)\n",
    "\n",
    "# Tucker\n",
    "expect_identical(out.Tucker_EUC$thr, formals(GCTF)$thr)\n",
    "expect_identical(out.Tucker_KL$thr, formals(GCTF)$thr)\n",
    "expect_identical(out.Tucker_IS$thr, formals(GCTF)$thr)"
   ]
  },
  {
   "cell_type": "markdown",
   "metadata": {},
   "source": [
    "#### Test O-10: RecError"
   ]
  },
  {
   "cell_type": "code",
   "execution_count": 25,
   "metadata": {},
   "outputs": [
    {
     "ename": "ERROR",
     "evalue": "Error: is.vector(out.CP_EUC$RecError) not identical to TRUE.\n1 element mismatch\n",
     "output_type": "error",
     "traceback": [
      "Error: is.vector(out.CP_EUC$RecError) not identical to TRUE.\n1 element mismatch\nTraceback:\n",
      "1. expect_identical(is.vector(out.CP_EUC$RecError), TRUE)",
      "2. expect(ident, sprintf(\"%s not identical to %s.\\n%s\", act$lab, \n .     exp$lab, msg), info = info)",
      "3. exp_signal(exp)",
      "4. withRestarts(if (expectation_broken(exp)) {\n .     stop(exp)\n . } else {\n .     signalCondition(exp)\n . }, continue_test = function(e) NULL)",
      "5. withOneRestart(expr, restarts[[1L]])",
      "6. doWithOneRestart(return(expr), restart)"
     ]
    }
   ],
   "source": [
    "# CP\n",
    "expect_identical(is.vector(out.CP_EUC$RecError), TRUE)\n",
    "expect_identical(is.vector(out.CP_KL$RecError), TRUE)\n",
    "expect_identical(is.vector(out.CP_IS$RecError), TRUE)\n",
    "\n",
    "# Tucker\n",
    "expect_identical(is.vector(out.Tucker_EUC$RecError), TRUE)\n",
    "expect_identical(is.vector(out.Tucker_KL$RecError), TRUE)\n",
    "expect_identical(is.vector(out.Tucker_IS$RecError), TRUE)"
   ]
  },
  {
   "cell_type": "markdown",
   "metadata": {},
   "source": [
    "#### Test O-11: RelChange"
   ]
  },
  {
   "cell_type": "code",
   "execution_count": 26,
   "metadata": {},
   "outputs": [
    {
     "ename": "ERROR",
     "evalue": "Error: is.vector(out.CP_EUC$RelChange) not identical to TRUE.\n1 element mismatch\n",
     "output_type": "error",
     "traceback": [
      "Error: is.vector(out.CP_EUC$RelChange) not identical to TRUE.\n1 element mismatch\nTraceback:\n",
      "1. expect_identical(is.vector(out.CP_EUC$RelChange), TRUE)",
      "2. expect(ident, sprintf(\"%s not identical to %s.\\n%s\", act$lab, \n .     exp$lab, msg), info = info)",
      "3. exp_signal(exp)",
      "4. withRestarts(if (expectation_broken(exp)) {\n .     stop(exp)\n . } else {\n .     signalCondition(exp)\n . }, continue_test = function(e) NULL)",
      "5. withOneRestart(expr, restarts[[1L]])",
      "6. doWithOneRestart(return(expr), restart)"
     ]
    }
   ],
   "source": [
    "# CP\n",
    "expect_identical(is.vector(out.CP_EUC$RelChange), TRUE)\n",
    "expect_identical(is.vector(out.CP_KL$RelChange), TRUE)\n",
    "expect_identical(is.vector(out.CP_IS$RelChange), TRUE)\n",
    "\n",
    "# Tucker\n",
    "expect_identical(is.vector(out.Tucker_EUC$RelChange), TRUE)\n",
    "expect_identical(is.vector(out.Tucker_KL$RelChange), TRUE)\n",
    "expect_identical(is.vector(out.Tucker_IS$RelChange), TRUE)"
   ]
  },
  {
   "cell_type": "markdown",
   "metadata": {},
   "source": [
    "### Test Non-negative data"
   ]
  },
  {
   "cell_type": "markdown",
   "metadata": {},
   "source": [
    "#### Test NN-1: X"
   ]
  },
  {
   "cell_type": "code",
   "execution_count": 27,
   "metadata": {},
   "outputs": [
    {
     "ename": "ERROR",
     "evalue": "Error: `GCTF(NegativeX, R_CP, Ranks = Ranks_CP, Beta = 0)` did not throw an error.\n",
     "output_type": "error",
     "traceback": [
      "Error: `GCTF(NegativeX, R_CP, Ranks = Ranks_CP, Beta = 0)` did not throw an error.\nTraceback:\n",
      "1. expect_error(GCTF(NegativeX, R_CP, Ranks = Ranks_CP, Beta = 0))",
      "2. expect(is.null(msg), msg, info = info, trace = act$cap[[\"trace\"]])",
      "3. exp_signal(exp)",
      "4. withRestarts(if (expectation_broken(exp)) {\n .     stop(exp)\n . } else {\n .     signalCondition(exp)\n . }, continue_test = function(e) NULL)",
      "5. withOneRestart(expr, restarts[[1L]])",
      "6. doWithOneRestart(return(expr), restart)"
     ]
    }
   ],
   "source": [
    "NegativeX <- X\n",
    "NegativeX$X2[2,3] <- -1\n",
    "expect_error(GCTF(NegativeX, R_CP, Ranks=Ranks_CP, Beta=0))"
   ]
  },
  {
   "cell_type": "markdown",
   "metadata": {},
   "source": [
    "### Test Consistency of Objects"
   ]
  },
  {
   "cell_type": "markdown",
   "metadata": {},
   "source": [
    "#### Test C-1: X and Z"
   ]
  },
  {
   "cell_type": "code",
   "execution_count": 28,
   "metadata": {},
   "outputs": [
    {
     "ename": "ERROR",
     "evalue": "Error: dim(X$X1)[1] not identical to dim(X$X2)[2].\nNames: 1 string mismatch\n",
     "output_type": "error",
     "traceback": [
      "Error: dim(X$X1)[1] not identical to dim(X$X2)[2].\nNames: 1 string mismatch\nTraceback:\n",
      "1. expect_identical(dim(X$X1)[1], dim(X$X2)[2], dim(out.CP_EUC$Z$A)[1], \n .     dim(out.CP_KL$Z$A)[1], dim(out.CP_IS$Z$A)[1])",
      "2. expect(ident, sprintf(\"%s not identical to %s.\\n%s\", act$lab, \n .     exp$lab, msg), info = info)",
      "3. exp_signal(exp)",
      "4. withRestarts(if (expectation_broken(exp)) {\n .     stop(exp)\n . } else {\n .     signalCondition(exp)\n . }, continue_test = function(e) NULL)",
      "5. withOneRestart(expr, restarts[[1L]])",
      "6. doWithOneRestart(return(expr), restart)"
     ]
    }
   ],
   "source": [
    "# CP\n",
    "## I\n",
    "expect_identical(\n",
    "    dim(X$X1)[1],\n",
    "    dim(X$X2)[2],\n",
    "    dim(out.CP_EUC$Z$A)[1],\n",
    "    dim(out.CP_KL$Z$A)[1],\n",
    "    dim(out.CP_IS$Z$A)[1])\n",
    "## J\n",
    "expect_identical(\n",
    "    dim(X$X1)[2],\n",
    "    dim(X$X3)[1],\n",
    "    dim(out.CP_EUC$Z$B)[1],\n",
    "    dim(out.CP_KL$Z$B)[1],\n",
    "    dim(out.CP_IS$Z$B)[1])\n",
    "## K\n",
    "expect_identical(\n",
    "    dim(X$X1)[3],\n",
    "    dim(out.CP_EUC$Z$C)[1],\n",
    "    dim(out.CP_KL$Z$C)[1],\n",
    "    dim(out.CP_IS$Z$C)[1])\n",
    "## M\n",
    "expect_identical(\n",
    "    dim(X$X2)[2],\n",
    "    dim(out.CP_EUC$Z$D)[1],\n",
    "    dim(out.CP_KL$Z$D)[1],\n",
    "    dim(out.CP_IS$Z$D)[1])\n",
    "## N\n",
    "expect_identical(\n",
    "    dim(X$X3)[2],\n",
    "    dim(out.CP_EUC$Z$E)[1],\n",
    "    dim(out.CP_KL$Z$E)[1],\n",
    "    dim(out.CP_IS$Z$E)[1])\n",
    "\n",
    "# Tucker\n",
    "## I\n",
    "expect_identical(\n",
    "    dim(X$X1)[1],\n",
    "    dim(X$X2)[2],\n",
    "    dim(out.Tucker_EUC$Z$A)[1],\n",
    "    dim(out.Tucker_KL$Z$A)[1],\n",
    "    dim(out.Tucker_IS$Z$A)[1])\n",
    "## J\n",
    "expect_identical(\n",
    "    dim(X$X1)[2],\n",
    "    dim(X$X3)[1],\n",
    "    dim(out.Tucker_EUC$Z$B)[1],\n",
    "    dim(out.Tucker_KL$Z$B)[1],\n",
    "    dim(out.Tucker_IS$Z$B)[1])\n",
    "## K\n",
    "expect_identical(\n",
    "    dim(X$X1)[3],\n",
    "    dim(out.Tucker_EUC$Z$C)[1],\n",
    "    dim(out.Tucker_KL$Z$C)[1],\n",
    "    dim(out.Tucker_IS$Z$C)[1])\n",
    "## M\n",
    "expect_identical(\n",
    "    dim(X$X2)[2],\n",
    "    dim(out.Tucker_EUC$Z$E)[1],\n",
    "    dim(out.Tucker_KL$Z$E)[1],\n",
    "    dim(out.Tucker_IS$Z$E)[1])\n",
    "## N\n",
    "expect_identical(\n",
    "    dim(X$X3)[2],\n",
    "    dim(out.Tucker_EUC$Z$F)[1],\n",
    "    dim(out.Tucker_KL$Z$F)[1],\n",
    "    dim(out.Tucker_IS$Z$F)[1])"
   ]
  },
  {
   "cell_type": "markdown",
   "metadata": {},
   "source": [
    "#### Test C-2: X and M"
   ]
  },
  {
   "cell_type": "code",
   "execution_count": 29,
   "metadata": {},
   "outputs": [
    {
     "ename": "ERROR",
     "evalue": "Error: `GCTF(NegativeX, R_CP, Ranks = Ranks_CP, Beta = 0)` did not throw an error.\n",
     "output_type": "error",
     "traceback": [
      "Error: `GCTF(NegativeX, R_CP, Ranks = Ranks_CP, Beta = 0)` did not throw an error.\nTraceback:\n",
      "1. expect_error(GCTF(NegativeX, R_CP, Ranks = Ranks_CP, Beta = 0))",
      "2. expect(is.null(msg), msg, info = info, trace = act$cap[[\"trace\"]])",
      "3. exp_signal(exp)",
      "4. withRestarts(if (expectation_broken(exp)) {\n .     stop(exp)\n . } else {\n .     signalCondition(exp)\n . }, continue_test = function(e) NULL)",
      "5. withOneRestart(expr, restarts[[1L]])",
      "6. doWithOneRestart(return(expr), restart)"
     ]
    }
   ],
   "source": [
    "M <- X\n",
    "tmp <- GCTF(X=X, R=R_CP, M=M, Ranks=Ranks_CP, Beta=0)\n",
    "M[[4]] <- X[[1]]\n",
    "expect_error(GCTF(NegativeX, R_CP, Ranks=Ranks_CP, Beta=0))"
   ]
  },
  {
   "cell_type": "markdown",
   "metadata": {},
   "source": [
    "#### Test C-3: Rank and Z"
   ]
  },
  {
   "cell_type": "code",
   "execution_count": 30,
   "metadata": {},
   "outputs": [
    {
     "ename": "ERROR",
     "evalue": "Error: as.vector(unlist(Ranks_CP$A)) not identical to dim(out.CP_EUC$Z$A).\nTypes not compatible: double is not NULL\n",
     "output_type": "error",
     "traceback": [
      "Error: as.vector(unlist(Ranks_CP$A)) not identical to dim(out.CP_EUC$Z$A).\nTypes not compatible: double is not NULL\nTraceback:\n",
      "1. expect_identical(as.vector(unlist(Ranks_CP$A)), dim(out.CP_EUC$Z$A), \n .     dim(out.CP_KL$Z$A), dim(out.CP_IS$Z$A))",
      "2. expect(ident, sprintf(\"%s not identical to %s.\\n%s\", act$lab, \n .     exp$lab, msg), info = info)",
      "3. exp_signal(exp)",
      "4. withRestarts(if (expectation_broken(exp)) {\n .     stop(exp)\n . } else {\n .     signalCondition(exp)\n . }, continue_test = function(e) NULL)",
      "5. withOneRestart(expr, restarts[[1L]])",
      "6. doWithOneRestart(return(expr), restart)"
     ]
    }
   ],
   "source": [
    "# CP\n",
    "## A\n",
    "expect_identical(\n",
    "    as.vector(unlist(Ranks_CP$A)),\n",
    "    dim(out.CP_EUC$Z$A),\n",
    "    dim(out.CP_KL$Z$A),\n",
    "    dim(out.CP_IS$Z$A))\n",
    "## B\n",
    "expect_identical(\n",
    "    as.vector(unlist(Ranks_CP$B)),\n",
    "    dim(out.CP_EUC$Z$B),\n",
    "    dim(out.CP_KL$Z$B),\n",
    "    dim(out.CP_IS$Z$B))\n",
    "## C\n",
    "expect_identical(\n",
    "    as.vector(unlist(Ranks_CP$C)),\n",
    "    dim(out.CP_EUC$Z$C),\n",
    "    dim(out.CP_KL$Z$C),\n",
    "    dim(out.CP_IS$Z$C))\n",
    "## D\n",
    "expect_identical(\n",
    "    as.vector(unlist(Ranks_CP$D)),\n",
    "    dim(out.CP_EUC$Z$D),\n",
    "    dim(out.CP_KL$Z$D),\n",
    "    dim(out.CP_IS$Z$D))\n",
    "## E\n",
    "expect_identical(\n",
    "    as.vector(unlist(Ranks_CP$E)),\n",
    "    dim(out.CP_EUC$Z$E),\n",
    "    dim(out.CP_KL$Z$E),\n",
    "    dim(out.CP_IS$Z$E))\n",
    "\n",
    "# Tucker\n",
    "## A\n",
    "expect_identical(\n",
    "    as.vector(unlist(Ranks_Tucker$A)),\n",
    "    dim(out.Tucker_EUC$Z$A),\n",
    "    dim(out.Tucker_KL$Z$A),\n",
    "    dim(out.Tucker_IS$Z$A))\n",
    "## B\n",
    "expect_identical(\n",
    "    as.vector(unlist(Ranks_Tucker$B)),\n",
    "    dim(out.Tucker_EUC$Z$B),\n",
    "    dim(out.Tucker_KL$Z$B),\n",
    "    dim(out.Tucker_IS$Z$B))\n",
    "## C\n",
    "expect_identical(\n",
    "    as.vector(unlist(Ranks_Tucker$C)),\n",
    "    dim(out.Tucker_EUC$Z$C),\n",
    "    dim(out.Tucker_KL$Z$C),\n",
    "    dim(out.Tucker_IS$Z$C))\n",
    "## E\n",
    "expect_identical(\n",
    "    as.vector(unlist(Ranks_Tucker$E)),\n",
    "    dim(out.Tucker_EUC$Z$E),\n",
    "    dim(out.Tucker_KL$Z$E),\n",
    "    dim(out.Tucker_IS$Z$E))\n",
    "## F\n",
    "expect_identical(\n",
    "    as.vector(unlist(Ranks_Tucker$F)),\n",
    "    dim(out.Tucker_EUC$Z$F),\n",
    "    dim(out.Tucker_KL$Z$F),\n",
    "    dim(out.Tucker_IS$Z$F))"
   ]
  },
  {
   "cell_type": "markdown",
   "metadata": {},
   "source": [
    "#### Test C-4: num.iter, RecError, amd RelChange"
   ]
  },
  {
   "cell_type": "code",
   "execution_count": 31,
   "metadata": {},
   "outputs": [
    {
     "ename": "ERROR",
     "evalue": "Error: 0 not identical to 0.\n1/1 mismatches\n[1] 30 - 0 == 30\n0\n",
     "output_type": "error",
     "traceback": [
      "Error: 0 not identical to 0.\n1/1 mismatches\n[1] 30 - 0 == 30\n0\nTraceback:\n",
      "1. expect_identical(formals(GCTF)$num.iter, length(out.CP_EUC$RecError), \n .     length(out.CP_KL$RecError), length(out.CP_IS$RecError), length(out.CP_EUC$RelChange), \n .     length(out.CP_KL$RelChange), length(out.CP_IS$RelChange))",
      "2. expect(ident, sprintf(\"%s not identical to %s.\\n%s\", act$lab, \n .     exp$lab, msg), info = info)",
      "3. exp_signal(exp)",
      "4. withRestarts(if (expectation_broken(exp)) {\n .     stop(exp)\n . } else {\n .     signalCondition(exp)\n . }, continue_test = function(e) NULL)",
      "5. withOneRestart(expr, restarts[[1L]])",
      "6. doWithOneRestart(return(expr), restart)"
     ]
    }
   ],
   "source": [
    "# CP\n",
    "expect_identical(\n",
    "    formals(GCTF)$num.iter,\n",
    "    length(out.CP_EUC$RecError),\n",
    "    length(out.CP_KL$RecError),\n",
    "    length(out.CP_IS$RecError),\n",
    "    length(out.CP_EUC$RelChange),\n",
    "    length(out.CP_KL$RelChange),\n",
    "    length(out.CP_IS$RelChange))\n",
    "\n",
    "# Tucker\n",
    "expect_identical(\n",
    "    formals(GCTF)$num.iter,\n",
    "    length(out.Tucker_EUC$RecError),\n",
    "    length(out.Tucker_KL$RecError),\n",
    "    length(out.Tucker_IS$RecError),\n",
    "    length(out.Tucker_EUC$RelChange),\n",
    "    length(out.Tucker_KL$RelChange),\n",
    "    length(out.Tucker_IS$RelChange))"
   ]
  },
  {
   "cell_type": "markdown",
   "metadata": {},
   "source": [
    "## Test Norm of Z"
   ]
  },
  {
   "cell_type": "markdown",
   "metadata": {},
   "source": [
    "#### Test N-1: Z"
   ]
  },
  {
   "cell_type": "code",
   "execution_count": 32,
   "metadata": {},
   "outputs": [
    {
     "ename": "ERROR",
     "evalue": "Error in apply(out.CP_EUC$Z$C, 2, function(x) {: dim(X) must have a positive length\n",
     "output_type": "error",
     "traceback": [
      "Error in apply(out.CP_EUC$Z$C, 2, function(x) {: dim(X) must have a positive length\nTraceback:\n",
      "1. expect_identical(1, prod(apply(out.CP_EUC$Z$A, 2, function(x) {\n .     norm(as.matrix(x, \"F\"))\n . })), prod(apply(out.CP_EUC$Z$B, 2, function(x) {\n .     norm(as.matrix(x, \"F\"))\n . })), prod(apply(out.CP_EUC$Z$C, 2, function(x) {\n .     norm(as.matrix(x, \"F\"))\n . })), prod(apply(out.CP_EUC$Z$D, 2, function(x) {\n .     norm(as.matrix(x, \"F\"))\n . })), prod(apply(out.CP_EUC$Z$E, 2, function(x) {\n .     norm(as.matrix(x, \"F\"))\n . })))",
      "2. quasi_label(enquo(object), label, arg = \"object\")",
      "3. label %||% expr_label(expr)",
      "4. apply(out.CP_EUC$Z$C, 2, function(x) {\n .     norm(as.matrix(x, \"F\"))\n . })",
      "5. stop(\"dim(X) must have a positive length\")"
     ]
    }
   ],
   "source": [
    "# CP\n",
    "expect_identical(1,\n",
    "  prod(apply(out.CP_EUC$Z$A, 2, function(x){norm(as.matrix(x, \"F\"))})),\n",
    "  prod(apply(out.CP_EUC$Z$B, 2, function(x){norm(as.matrix(x, \"F\"))})),\n",
    "  prod(apply(out.CP_EUC$Z$C, 2, function(x){norm(as.matrix(x, \"F\"))})),\n",
    "  prod(apply(out.CP_EUC$Z$D, 2, function(x){norm(as.matrix(x, \"F\"))})),\n",
    "  prod(apply(out.CP_EUC$Z$E, 2, function(x){norm(as.matrix(x, \"F\"))})))\n",
    "expect_identical(1,\n",
    "  prod(apply(out.CP_KL$Z$A, 2, function(x){norm(as.matrix(x, \"F\"))})),\n",
    "  prod(apply(out.CP_KL$Z$B, 2, function(x){norm(as.matrix(x, \"F\"))})),\n",
    "  prod(apply(out.CP_KL$Z$C, 2, function(x){norm(as.matrix(x, \"F\"))})),\n",
    "  prod(apply(out.CP_KL$Z$D, 2, function(x){norm(as.matrix(x, \"F\"))})),\n",
    "  prod(apply(out.CP_KL$Z$E, 2, function(x){norm(as.matrix(x, \"F\"))})))\n",
    "expect_identical(1,\n",
    "  prod(apply(out.CP_IS$Z$A, 2, function(x){norm(as.matrix(x, \"F\"))})),\n",
    "  prod(apply(out.CP_IS$Z$B, 2, function(x){norm(as.matrix(x, \"F\"))})),\n",
    "  prod(apply(out.CP_IS$Z$C, 2, function(x){norm(as.matrix(x, \"F\"))})),\n",
    "  prod(apply(out.CP_IS$Z$D, 2, function(x){norm(as.matrix(x, \"F\"))})),\n",
    "  prod(apply(out.CP_IS$Z$E, 2, function(x){norm(as.matrix(x, \"F\"))})))\n",
    "\n",
    "# Tucker\n",
    "expect_identical(1,\n",
    "  prod(apply(out.Tucker_EUC$Z$A, 2, function(x){norm(as.matrix(x, \"F\"))})),\n",
    "  prod(apply(out.Tucker_EUC$Z$B, 2, function(x){norm(as.matrix(x, \"F\"))})),\n",
    "  prod(apply(out.Tucker_EUC$Z$C, 2, function(x){norm(as.matrix(x, \"F\"))})),\n",
    "  prod(apply(out.Tucker_EUC$Z$E, 2, function(x){norm(as.matrix(x, \"F\"))})),\n",
    "  prod(apply(out.Tucker_EUC$Z$F, 2, function(x){norm(as.matrix(x, \"F\"))})))\n",
    "expect_identical(1,\n",
    "  prod(apply(out.Tucker_KL$Z$A, 2, function(x){norm(as.matrix(x, \"F\"))})),\n",
    "  prod(apply(out.Tucker_KL$Z$B, 2, function(x){norm(as.matrix(x, \"F\"))})),\n",
    "  prod(apply(out.Tucker_KL$Z$C, 2, function(x){norm(as.matrix(x, \"F\"))})),\n",
    "  prod(apply(out.Tucker_KL$Z$E, 2, function(x){norm(as.matrix(x, \"F\"))})),\n",
    "  prod(apply(out.Tucker_KL$Z$F, 2, function(x){norm(as.matrix(x, \"F\"))})))\n",
    "expect_identical(1,\n",
    "  prod(apply(out.Tucker_IS$Z$A, 2, function(x){norm(as.matrix(x, \"F\"))})),\n",
    "  prod(apply(out.Tucker_IS$Z$B, 2, function(x){norm(as.matrix(x, \"F\"))})),\n",
    "  prod(apply(out.Tucker_IS$Z$C, 2, function(x){norm(as.matrix(x, \"F\"))})),\n",
    "  prod(apply(out.Tucker_IS$Z$E, 2, function(x){norm(as.matrix(x, \"F\"))})),\n",
    "  prod(apply(out.Tucker_IS$Z$F, 2, function(x){norm(as.matrix(x, \"F\"))})))"
   ]
  },
  {
   "cell_type": "markdown",
   "metadata": {},
   "source": [
    "### Test Monotonous Decrease of Error"
   ]
  },
  {
   "cell_type": "markdown",
   "metadata": {},
   "source": [
    "#### Test M-1: RecError"
   ]
  },
  {
   "cell_type": "code",
   "execution_count": 33,
   "metadata": {},
   "outputs": [
    {
     "ename": "ERROR",
     "evalue": "Error in order(out.CP_EUC$RecError):  引数 1 がベクトルではありません \n",
     "output_type": "error",
     "traceback": [
      "Error in order(out.CP_EUC$RecError):  引数 1 がベクトルではありません \nTraceback:\n",
      "1. expect_identical(order(out.CP_EUC$RecError), rev(seq(30)))",
      "2. quasi_label(enquo(object), label, arg = \"object\")",
      "3. eval_bare(expr, quo_get_env(quo))",
      "4. order(out.CP_EUC$RecError)"
     ]
    }
   ],
   "source": [
    "# CP\n",
    "expect_identical(order(out.CP_EUC$RecError), rev(seq(30)))\n",
    "expect_identical(order(out.CP_KL$RecError), rev(seq(30)))\n",
    "expect_identical(order(out.CP_IS$RecError), rev(seq(30)))\n",
    "\n",
    "# Tucker\n",
    "expect_identical(order(out.Tucker_EUC$RecError), rev(seq(30)))\n",
    "expect_identical(order(out.Tucker_KL$RecError), rev(seq(30)))\n",
    "expect_identical(order(out.Tucker_IS$RecError), rev(seq(30)))"
   ]
  },
  {
   "cell_type": "markdown",
   "metadata": {},
   "source": [
    "#### Test M-2: RelChange"
   ]
  },
  {
   "cell_type": "code",
   "execution_count": 34,
   "metadata": {},
   "outputs": [
    {
     "ename": "ERROR",
     "evalue": "Error in order(out.CP_EUC$RelChange):  引数 1 がベクトルではありません \n",
     "output_type": "error",
     "traceback": [
      "Error in order(out.CP_EUC$RelChange):  引数 1 がベクトルではありません \nTraceback:\n",
      "1. expect_identical(order(out.CP_EUC$RelChange), rev(seq(30)))",
      "2. quasi_label(enquo(object), label, arg = \"object\")",
      "3. eval_bare(expr, quo_get_env(quo))",
      "4. order(out.CP_EUC$RelChange)"
     ]
    }
   ],
   "source": [
    "# CP\n",
    "expect_identical(order(out.CP_EUC$RelChange), rev(seq(30)))\n",
    "expect_identical(order(out.CP_KL$RelChange), rev(seq(30)))\n",
    "expect_identical(order(out.CP_IS$RelChange), rev(seq(30)))\n",
    "\n",
    "# Tucker\n",
    "expect_identical(order(out.Tucker_EUC$RelChange), rev(seq(30)))\n",
    "expect_identical(order(out.Tucker_KL$RelChange), rev(seq(30)))\n",
    "expect_identical(order(out.Tucker_IS$RelChange), rev(seq(30)))"
   ]
  },
  {
   "cell_type": "markdown",
   "metadata": {},
   "source": [
    "## Session Information"
   ]
  },
  {
   "cell_type": "code",
   "execution_count": 35,
   "metadata": {},
   "outputs": [
    {
     "data": {
      "text/plain": [
       "R version 4.0.3 (2020-10-10)\n",
       "Platform: x86_64-apple-darwin13.4.0 (64-bit)\n",
       "Running under: macOS Catalina 10.15.7\n",
       "\n",
       "Matrix products: default\n",
       "BLAS/LAPACK: /Users/tsuyusakikouki/opt/anaconda3/lib/libmkl_rt.dylib\n",
       "\n",
       "locale:\n",
       "[1] C/UTF-8/C/C/C/C\n",
       "\n",
       "attached base packages:\n",
       "[1] stats     graphics  grDevices utils     datasets  methods   base     \n",
       "\n",
       "other attached packages:\n",
       "[1] testthat_3.0.2 rTensor_1.4.8 \n",
       "\n",
       "loaded via a namespace (and not attached):\n",
       " [1] fansi_0.4.2       rprojroot_2.0.2   withr_2.4.2       digest_0.6.27    \n",
       " [5] utf8_1.2.1        crayon_1.4.1      IRdisplay_1.0     R6_2.5.0         \n",
       " [9] repr_1.1.3        lifecycle_1.0.0   jsonlite_1.7.2    magrittr_2.0.1   \n",
       "[13] evaluate_0.14     pillar_1.6.1      rlang_0.4.11      uuid_0.1-4       \n",
       "[17] vctrs_0.3.8       ellipsis_0.3.2    IRkernel_1.2      desc_1.3.0       \n",
       "[21] tools_4.0.3       pkgload_1.2.1     compiler_4.0.3    base64enc_0.1-3  \n",
       "[25] pbdZMQ_0.3-5      htmltools_0.5.1.1"
      ]
     },
     "metadata": {},
     "output_type": "display_data"
    }
   ],
   "source": [
    "sessionInfo()"
   ]
  }
 ],
 "metadata": {
  "kernelspec": {
   "display_name": "R",
   "language": "R",
   "name": "ir"
  },
  "language_info": {
   "codemirror_mode": "r",
   "file_extension": ".r",
   "mimetype": "text/x-r-source",
   "name": "R",
   "pygments_lexer": "r",
   "version": "4.0.3"
  }
 },
 "nbformat": 4,
 "nbformat_minor": 4
}
