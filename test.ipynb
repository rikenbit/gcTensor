{
 "cells": [
  {
   "cell_type": "markdown",
   "metadata": {},
   "source": [
    "# Test code of GCTF Function"
   ]
  },
  {
   "cell_type": "markdown",
   "metadata": {},
   "source": [
    "## Dependent Packages Installation"
   ]
  },
  {
   "cell_type": "code",
   "execution_count": null,
   "metadata": {},
   "outputs": [],
   "source": [
    "if (!requireNamespace(\"rTensor\", quietly = TRUE)){\n",
    "    install.packages(\"rTensor\")\n",
    "}\n",
    "if (!requireNamespace(\"testthat\", quietly = TRUE)){\n",
    "    install.packages(\"testthat\")\n",
    "}\n",
    "if (!requireNamespace(\"einsum\", quietly = TRUE)) {\n",
    "    install.packages(\"einsum\")\n",
    "}\n",
    "\n",
    "library(\"rTensor\")\n",
    "library(\"testthat\")\n",
    "library(\"einsum\")"
   ]
  },
  {
   "cell_type": "markdown",
   "metadata": {},
   "source": [
    "## GCTF Function (Paste your GCTF code here)"
   ]
  },
  {
   "cell_type": "code",
   "execution_count": 2,
   "metadata": {},
   "outputs": [
    {
     "name": "stderr",
     "output_type": "stream",
     "text": [
      "Your code contains a unicode char which cannot be displayed in your\n",
      "current locale and R will silently convert it to an escaped form when the\n",
      "R kernel executes this code. This can lead to subtle errors if you use\n",
      "such chars to do comparisons. For more information, please see\n",
      "https://github.com/IRkernel/repr/wiki/Problems-with-unicode-on-windows"
     ]
    }
   ],
   "source": [
    "GCTF <- function(X, R, M=NULL, initZ=NULL, fix=NULL, Ranks, Beta=1,\n",
    "                 num.iter=30, thr=1E-10, verbose=FALSE) {\n",
    "  ######################################\n",
    "  # Argument Check\n",
    "  ######################################\n",
    "  # Sign\n",
    "  .checkSign(X)\n",
    "  # Common Name\n",
    "  .checkCommonName(X, R, Ranks)\n",
    "  # Number of iteration\n",
    "  .checkNumIteration(num.iter)\n",
    "  # Threshold value\n",
    "  .checkThreshold(thr)\n",
    "  # Ranks\n",
    "  .checkRanks(X, R, Ranks)\n",
    "  # Size of X and M\n",
    "  M <- .checkM(X, M)\n",
    "  # Initial Latent Indices\n",
    "  Z <- .checkInitZ(X, R, Ranks, initZ)\n",
    "  # If fix is not set, all Z may be changed\n",
    "  if (is.null(fix)) fix <- rep(FALSE, length(Z))\n",
    "\n",
    "  ######################################\n",
    "  # Setting\n",
    "  ######################################\n",
    "  # Visible Indices e.g. I, J, K, P, Q\n",
    "  visibleIdxs <- .visibleIdxs(X)\n",
    "  # Latent Indices e.g. p, q, r\n",
    "  latentIdxs <- .latentIdxs(Ranks, Z, visibleIdxs)\n",
    "  # Reconstruction Error\n",
    "  RecError = c()\n",
    "  # Relative Change\n",
    "  RelChange = c()\n",
    "  # Reconstructed Tensor\n",
    "  X_bar <- .recTensor(X, Z, R, Ranks, latentIdxs)\n",
    "  # First iteration\n",
    "  RecError[1] <- .recError(X, X_bar)\n",
    "  RelChange[1] <- thr * 10\n",
    "\n",
    "  ######################################\n",
    "  # Iteration\n",
    "  ######################################\n",
    "  iter <- 1\n",
    "  while ((RelChange[iter] > thr) && (iter < num.iter)) {\n",
    "    if (verbose) {\n",
    "      cat(paste0(\"## Iteration: \", iter, \"\\n\"))\n",
    "    }\n",
    "    # Update each Factor Matrix\n",
    "    for (Alpha in seq_len(ncol(R))) {        \n",
    "      # Skip update if current Alpha is set fixed.\n",
    "      if (fix[Alpha]) next\n",
    "      # Update factor matrix\n",
    "      Z[[Alpha]] <- .MU(Z, M, X, X_bar, R, Alpha, Beta, Ranks)\n",
    "      # Reconstruct observational tensor\n",
    "      X_bar <- .recTensor(X, Z, R, Ranks, latentIdxs)\n",
    "    }\n",
    "    # After Update\n",
    "    iter <- iter + 1      \n",
    "    RecError[iter] <- .recError(X, X_bar)\n",
    "    RelChange[iter] <- .relChange(iter, RecError)\n",
    "  }\n",
    "    \n",
    "  # Output\n",
    "  list(X=X, \n",
    "       Z=Z,\n",
    "       R=R, Ranks=Ranks, Beta=Beta,\n",
    "       num.iter=num.iter, thr=thr,\n",
    "       RecError=RecError, RelChange=RelChange)\n",
    "}\n",
    "\n",
    "# Argument Check Functions\n",
    ".checkSign <- function(X) {\n",
    "  lapply(X, function(x) {\n",
    "    if (!all(x >= 0)) {\n",
    "      stop(\"Specify the input X as non-negative\")\n",
    "    }\n",
    "  })\n",
    "}\n",
    "\n",
    ".checkCommonName <- function(X, R, Ranks) {\n",
    "  if (!all(rownames(R) %in% names(X))) {\n",
    "    stop(\"rownames(R) must be the same as names(X)\")\n",
    "  }\n",
    "  if (!all(colnames(R) %in% names(Ranks))) {\n",
    "    stop(\"rownames(R) must be the same as names(X)\")\n",
    "  }\n",
    "  namesX <- unique(unlist(lapply(X, function(x){names(dim(x))})))\n",
    "  namesRanks <- unique(unlist(lapply(Ranks, names)))\n",
    "  if (!all(namesX %in% namesRanks)) {\n",
    "    stop(\"rownames(R) must be the same as names(X)\")\n",
    "  }\n",
    "}\n",
    "\n",
    ".checkNumIteration <- function(num.iter) {\n",
    "  if (num.iter <= 0) {\n",
    "    stop(\"Specify num.iter as positive integar (e.g. 100)\")\n",
    "  }\n",
    "}\n",
    "\n",
    ".checkThreshold <- function(thr) {\n",
    "  if (thr <= 0) {\n",
    "    stop(\"Specify thr as positive real number (e.g. 1E-10)\")\n",
    "  }\n",
    "}\n",
    "\n",
    ".checkRanks <- function(X, R, Ranks) {\n",
    "  Dims <- lapply(X, function(x){dim(x)})\n",
    "  lapply(seq_len(ncol(R)), function(x) {\n",
    "    objects <- rownames(R)[which(R[,x] == 1)]\n",
    "    if(min(unlist(Dims[objects])) < min(unlist(Ranks[x]))){\n",
    "      stop(paste0(\"Specify the Ranks[\", x, \"] as smaller value\"))\n",
    "    }\n",
    "  })\n",
    "}\n",
    "\n",
    ".checkM <- function(X, M) {\n",
    "  if (!is.null(M)) {\n",
    "    if (!identical(lapply(X, dim), lapply(M, dim))) {\n",
    "      stop(\"Dimension of Mask tensor M must be the same as that of X\")\n",
    "    }\n",
    "  } else {\n",
    "    M <- X\n",
    "    for (i in seq_along(M)) {\n",
    "      M[[i]][] <- 1\n",
    "    }\n",
    "  }\n",
    "  M\n",
    "}\n",
    "\n",
    ".checkInitZ <- function(X, R, Ranks, initZ) {\n",
    "  if (is.null(initZ)) {\n",
    "    Z <- .genLatentVals(X, R, Ranks)\n",
    "  } else {\n",
    "    checkInitZ <- all(unlist(lapply(seq_along(initZ), function(x) {\n",
    "      identical(as.integer(dim(initZ[[x]])),\n",
    "                as.integer(unlist(Ranks[[x]])))\n",
    "    })))\n",
    "    if (!checkInitZ) {\n",
    "      stop(\"The size of initZ must be same as the way Ranks specified\")\n",
    "    } else {\n",
    "      Z <- initZ\n",
    "    }\n",
    "  }\n",
    "  Z\n",
    "}\n",
    "\n",
    "# Visible Indices\n",
    ".visibleIdxs <- function(X) {\n",
    "  vnames <- unique(unlist(lapply(X, function(x) {\n",
    "    names(dim(x))\n",
    "  })) )\n",
    "  vdims <- unlist(lapply(X, function(x) {\n",
    "    dim(x)\n",
    "  }))\n",
    "  names(vdims) <- gsub(\".*\\\\.\", \"\", names(vdims))\n",
    "  vdims <- vdims[vnames]\n",
    "  vdims\n",
    "}\n",
    "\n",
    "# Latent indices\n",
    ".latentIdxs <- function(Ranks, Z, visibleIdxs) {\n",
    "  lnames <- unique(unlist(lapply(Ranks, function(x) {\n",
    "    names(x)\n",
    "  })))\n",
    "  lnames <- setdiff(lnames, names(visibleIdxs))\n",
    "  ldims <- unlist(lapply(Z, function(x) {\n",
    "    dim(x)\n",
    "  }))\n",
    "  names(ldims) <- gsub(\".*\\\\.\", \"\", names(ldims))\n",
    "  ldims <- ldims[lnames]\n",
    "  ldims\n",
    "}\n",
    "\n",
    "# Multiplicate Update\n",
    ".MU <- function(Z, M, X, X_bar, R, Alpha, Beta, Ranks) {\n",
    "  # Numerator\n",
    "  numer <- vapply(seq_len(nrow(R)), function(v) {\n",
    "    R[v, Alpha] * .TensorValdFunc(M[[v]] *\n",
    "                                    X_bar[[v]]^(-Beta) * X[[v]], Z, R, v, Alpha, Ranks)\n",
    "  }, Z[[Alpha]])\n",
    "  # Denominator\n",
    "  denom <- vapply(seq_len(nrow(R)), function(v) {\n",
    "    R[v, Alpha] * .TensorValdFunc(M[[v]] * X_bar[[v]]^(1-Beta),\n",
    "                                  Z, R, v, Alpha, Ranks)\n",
    "  }, Z[[Alpha]])\n",
    "  # Update rules for GCTF\n",
    "  sumRange <- seq_len(length(dim(numer)) - 1)\n",
    "  out <- Z[[Alpha]] * (apply(numer, sumRange, sum) / apply(denom, sumRange, sum))\n",
    "  out\n",
    "}\n",
    "\n",
    ".checkDimNames <- function(tensorList) {\n",
    "    for (tensor in tensorList) {\n",
    "        for (dimName in names(dim(tensor))) {\n",
    "            # check if length of dimName is 1\n",
    "            stopifnot(nchar(dimName) == 1)\n",
    "        }        \n",
    "    }\n",
    "}\n",
    "\n",
    ".generateEquationStringLeftHandSide <- function(tensorList) {\n",
    "    equation <- \"\"\n",
    "    for (iTensor in seq_along(tensorList)) {\n",
    "        tensor <- tensorList[[iTensor]]\n",
    "        for (dimName in names(dim(tensor))) {\n",
    "            equation <- paste0(equation, dimName)\n",
    "        }\n",
    "        if (iTensor != length(tensorList)) {\n",
    "            equation <- paste0(equation, \",\")\n",
    "        }\n",
    "    }\n",
    "    equation\n",
    "}\n",
    "\n",
    ".generateEquationStringRightHandSide <- function(marginNames) {\n",
    "    equation <- \"\"\n",
    "    for (dimName in marginNames) {\n",
    "        equation <- paste0(equation, dimName)\n",
    "    }\n",
    "    equation\n",
    "}\n",
    "\n",
    ".generateEquationString <- function(tensorList, marginNames) {\n",
    "    .checkDimNames(tensorList)    \n",
    "    lhs <- .generateEquationStringLeftHandSide(tensorList)\n",
    "    rhs <- .generateEquationStringRightHandSide(marginNames)\n",
    "    equation <- paste(lhs, rhs, sep=\"->\")\n",
    "    equation\n",
    "}\n",
    "\n",
    ".MulSumTensors <- function(tensorList, marginNames) {\n",
    "    equation <- .generateEquationString(tensorList, marginNames)\n",
    "    resultTensor <- do.call(\"einsum\", c(equation, tensorList))\n",
    "    names(dim(resultTensor)) <- marginNames\n",
    "    resultTensor\n",
    "}\n",
    "\n",
    "# Tensor Valued Function\n",
    "# ∆α,ν function is just computing a product of tensors\n",
    "# and collapses this product over indices not appearing in Zα\n",
    "\n",
    "# e.g.\n",
    "# v = 1\n",
    "# Q = M[[v]] * X_bar[[v]]^(-Beta) * X[[v]]\n",
    ".TensorValdFunc <- function(Q, Z, R, v, Alpha, Ranks) {\n",
    "  if(R[v, Alpha] == 0) {\n",
    "    # Z[[Alpha]] for vapply\n",
    "    out <- Z[[Alpha]]\n",
    "  } else {\n",
    "    notAlphas <- intersect(setdiff(seq_len(ncol(R)), Alpha),\n",
    "                           which(R[v, ] == 1))\n",
    "    multiplied_tensor_list <-lapply(notAlphas, function(notAlpha){Z[[notAlpha]]})\n",
    "    multiplied_tensor_list[[length(multiplied_tensor_list)+1]] <- Q\n",
    "    out <- .MulSumTensors(multiplied_tensor_list, names(dim(Z[[Alpha]])))\n",
    "  }\n",
    "    \n",
    "  # Reordering\n",
    "  out <- .reOrder(out, Z[[Alpha]])\n",
    "  names(dim(out)) <- names(dim(Z[[Alpha]]))\n",
    "  out\n",
    "}\n",
    "\n",
    "# Reconstruction Error\n",
    ".recError <- function(X, X_bar) {\n",
    "  v <- unlist(lapply(seq_len(length(X)), function(x) {\n",
    "    X[[x]] - X_bar[[x]]\n",
    "  }))\n",
    "  sqrt(sum(v * v))\n",
    "}\n",
    "\n",
    "# Reconstructed Tensor\n",
    ".recTensor <- function(X, Z, R, Ranks, latentIdxs) {\n",
    "  # Matrix object Position\n",
    "  matObject <- lapply(Z, is.matrix)\n",
    "  names(matObject) <- names(Z)\n",
    "  # Reconstruction\n",
    "  X_bar <- .Xbar(R, Z, matObject, latentIdxs)\n",
    "  # Fix the order of X_bar as same as that of X\n",
    "  .reOrder(X_bar, X)\n",
    "}\n",
    "\n",
    "# Reconstructed Tensor\n",
    ".Xbar <- function(R, Z, matObject, latentIdxs) {\n",
    "  out <- lapply(seq_len(nrow(R)), function(x) {\n",
    "    # Related Factor matrix/tensor\n",
    "    relFactor <- names(R[x, ][which(R[x, ] == 1)])\n",
    "    # Tensor object position\n",
    "    l <- which(!unlist(matObject[relFactor]))\n",
    "    # if Tensor is contained in Z\n",
    "    if (length(l) != 0) {\n",
    "      # If a tensor is seed\n",
    "      seed <- Z[[names(l)]]\n",
    "      relFactor <- setdiff(relFactor, names(l))\n",
    "    } else {\n",
    "      # If a matrix is seed\n",
    "      if (length(latentIdxs) == 1) {\n",
    "        seed <- .diagonalTensor(names(latentIdxs), latentIdxs,\n",
    "                                length(relFactor))\n",
    "      } else {\n",
    "        firstPos <- relFactor[1]\n",
    "        seed <- Z[firstPos][[1]]\n",
    "        relFactor <- setdiff(relFactor, firstPos)\n",
    "      }\n",
    "    }\n",
    "    for (i in relFactor) {\n",
    "      seed <- .xtx(seed, Z[i][[1]])\n",
    "    }\n",
    "    seed\n",
    "  })\n",
    "  names(out) <- rownames(R)\n",
    "  out\n",
    "}\n",
    "\n",
    ".diagonalTensor <- function(latentIdxs, len1, len2){\n",
    "  out <- rTensor:::.superdiagonal_tensor(len2, len1)@data\n",
    "  names(dim(out)) <- rep(latentIdxs, len2)\n",
    "  out\n",
    "}\n",
    "\n",
    "# ??????\n",
    ".reOrder <- function(X_bar, X) {\n",
    "  X_barType <- is.array(X_bar)\n",
    "  XType <- is.array(X)\n",
    "  if (X_barType && XType) {\n",
    "    X_bar <- list(X_bar)\n",
    "    X <- list(X)\n",
    "  }\n",
    "  vapply(seq_along(X_bar), function(x) {\n",
    "    Xdimnames <- names(dim(X[[x]]))\n",
    "    X_barorder <- unlist(lapply(Xdimnames, function(xx) {\n",
    "      which(xx == names(dim(X_bar[[x]])))\n",
    "    }))\n",
    "    X_bar[[x]] <<- aperm(X_bar[[x]], X_barorder)\n",
    "    0L\n",
    "  }, 0L)\n",
    "  if (X_barType && XType) {\n",
    "    X_bar <- X_bar[[1]]\n",
    "  }\n",
    "  X_bar\n",
    "}\n",
    "\n",
    "# Initial Latent Indices\n",
    ".genLatentVals <- function(X, R, Ranks) {\n",
    "  out <- lapply(names(Ranks), function(x) {\n",
    "    tmp <- abs(rand_tensor(modes = unlist(Ranks[[x]]))@data)\n",
    "    tmp <- tmp / norm(as.matrix(tmp), \"F\")\n",
    "    names(dim(tmp)) <- names(Ranks[[x]])\n",
    "    tmp\n",
    "  })\n",
    "  names(out) <- colnames(R)\n",
    "  out\n",
    "}\n",
    "\n",
    "# Matrix/Tensor × Matrix/Tensor\n",
    ".xtx <- function(A, B) {\n",
    "  isTensorA <- length(dim(A)) > 2\n",
    "  isTensorB <- length(dim(B)) > 2\n",
    "  # A : Matrix, B : Matrix\n",
    "  if(!isTensorA && !isTensorB){\n",
    "    out <- .mtm(as.matrix(A), as.matrix(B))\n",
    "  }\n",
    "  # A : Matrix, B : Tensor\n",
    "  if(!isTensorA && isTensorB){\n",
    "    out <- .ttm(B, as.matrix(A))\n",
    "  }\n",
    "  # A : Tensor, B : Matrix\n",
    "  if(isTensorA && !isTensorB){\n",
    "    out <- .ttm(A, as.matrix(B))\n",
    "  }\n",
    "  # A : Tensor, B : Tensor\n",
    "  if(isTensorA && isTensorB){\n",
    "    out <- .ttt(A, B)\n",
    "  }\n",
    "  out\n",
    "}\n",
    "\n",
    "# Matrix × Matrix\n",
    ".mtm <- function(A, B) {\n",
    "  # common mode\n",
    "  commonMode <- intersect(names(dim(A)), names(dim(B)))\n",
    "  targetA <- vapply(commonMode, function(x) {\n",
    "    which(names(dim(A)) == x)[1]\n",
    "  }, 0L)\n",
    "  targetB <- vapply(commonMode, function(x) {\n",
    "    which(names(dim(B)) == x)[1]\n",
    "  }, 0L)\n",
    "  # not common mode\n",
    "  ncModeA <- setdiff(seq_len(length(dim(A))), targetA)\n",
    "  ncModeB <- setdiff(seq_len(length(dim(B))), targetB)\n",
    "  if ((targetA == 1) && (targetB == 1)) {\n",
    "    out <- t(A) %*% B\n",
    "  }\n",
    "  if ((targetA == 1) && (targetB == 2)) {\n",
    "    out <- t(A) %*% t(B)\n",
    "  }\n",
    "  if ((targetA == 2) && (targetB == 1)) {\n",
    "    out <- A %*% B\n",
    "  }\n",
    "  if ((targetA == 2) && (targetB == 2)) {\n",
    "    out <- A %*% t(B)\n",
    "  }\n",
    "  names(dim(out))[1] <- names(dim(A))[ncModeA]\n",
    "  names(dim(out))[2] <- names(dim(B))[ncModeB]\n",
    "  out\n",
    "}\n",
    "\n",
    "# Tensor × Tensor\n",
    ".ttt <- function(A, B) {\n",
    "  # common mode\n",
    "  commonMode <- intersect(names(dim(A)), names(dim(B)))\n",
    "  targetA <- vapply(commonMode, function(x){\n",
    "    which(names(dim(A)) == x)[1]\n",
    "  }, 0L)\n",
    "  targetB <- vapply(commonMode, function(x){\n",
    "    which(names(dim(B)) == x)[1]\n",
    "  }, 0L)\n",
    "  # not common mode\n",
    "  ncModeA <- setdiff(seq_len(length(dim(A))), targetA)\n",
    "  ncModeB <- setdiff(seq_len(length(dim(B))), targetB)\n",
    "  # Matricising\n",
    "  mat_1 <- rTensor::unfold(as.tensor(A),\n",
    "                           row_idx = ncModeA, col_idx = targetA)@data\n",
    "  mat_2 <- rTensor::unfold(as.tensor(B),\n",
    "                           row_idx = ncModeB, col_idx = targetB)@data\n",
    "  # Matrix-times-matrix\n",
    "  out <- mat_1 %*% t(mat_2)\n",
    "  if(length(ncModeA) == 1){\n",
    "    names(dim(out))[1] <- names(dim(A)[ncModeA])\n",
    "  }\n",
    "  if(length(ncModeB) == 1){\n",
    "    names(dim(out))[2] <- names(dim(B)[ncModeB])\n",
    "  }\n",
    "\n",
    "  if (length(ncModeA) == 0 && length(ncModeB) > 0) {\n",
    "    # if ncModeA is empty\n",
    "    names(ncModeB) <- names(dim(B))[ncModeB]\n",
    "    out <- array(out, dim(B)[ncModeB])\n",
    "  } else if (length(ncModeB) == 0 && length(ncModeA) > 0) {\n",
    "    # if ncModeB is empty\n",
    "    names(ncModeA) <- names(dim(A))[ncModeA]\n",
    "    out <- array(out, dim(A)[ncModeA])\n",
    "  } else if (length(ncModeA) == 0 && length(ncModeB) == 0) {\n",
    "    # if both ncMode1 and ncMode2 are empty\n",
    "    out <- out\n",
    "  } else if (length(ncModeA) == 1 && length(ncModeB) == 1) {\n",
    "    # both ncMode1 and ncMode2 contains only one element\n",
    "    names(dim(out)) <- c(names(dim(A))[ncModeA], names(dim(B))[ncModeB])\n",
    "  } else {\n",
    "    # both ncMode1 and ncMode2 contains elements\n",
    "    out <- fold(\n",
    "      out, row_idx=seq_along(ncModeA),\n",
    "      col_idx=seq(from=length(ncModeA)+1, to=length(ncModeA)+length(ncModeB)),\n",
    "      modes=c(ncModeA, ncModeB))\n",
    "  }\n",
    "  out\n",
    "}\n",
    "\n",
    ".ttm <- function(A, B){\n",
    "    \n",
    "  # common mode\n",
    "  commonMode <- intersect(names(dim(A)), names(dim(B)))\n",
    "  targetA <- vapply(commonMode, function(x) {\n",
    "    which(names(dim(A)) == x)[1]\n",
    "  }, 0L)\n",
    "  targetB <- vapply(commonMode, function(x) {\n",
    "    which(names(dim(B)) == x)[1]\n",
    "  }, 0L)\n",
    "  notComModeA <- setdiff(seq_len(length(dim(A))), targetA)\n",
    "  notComModeB <- setdiff(seq_len(length(dim(B))), targetB)\n",
    "  A <- aperm(A, c(targetA, notComModeA))\n",
    "  B <- aperm(B, c(targetB, notComModeB))\n",
    "  # Tensor-times-matrix\n",
    "  out <- ttm(as.tensor(A), t(B), m=1) # need support for the case modes of A and B are same.\n",
    "  out <- out@data\n",
    "  names(dim(out))[1] <- names(dim(B)[2])\n",
    "  vapply(2:length(dim(out)), function(x) {\n",
    "    names(dim(out))[x] <<- names(dim(A)[x])\n",
    "  }, \"\")  \n",
    "  out\n",
    "}\n",
    "\n",
    "# Relative Change\n",
    ".relChange <- function(iter, RecError){\n",
    "  # abs(RecError[iter-1] - RecError[iter]) / RecError[iter]\n",
    "  # remove abs because errors can be increased in IS divergence case.\n",
    "  (RecError[iter-1] - RecError[iter]) / RecError[iter]\n",
    "}"
   ]
  },
  {
   "cell_type": "markdown",
   "metadata": {},
   "source": [
    "## Simulation Datasets"
   ]
  },
  {
   "cell_type": "code",
   "execution_count": 3,
   "metadata": {},
   "outputs": [],
   "source": [
    "set.seed(123)\n",
    "\n",
    "# I × J × K\n",
    "X1 <- rand_tensor(modes = c(4, 5, 6))\n",
    "X1 <- X1@data^2\n",
    "names(dim(X1)) <- c(\"I\", \"J\", \"K\")\n",
    "\n",
    "# I × P\n",
    "X2 <- matrix(runif(4 * 7), nrow=4, ncol=7)\n",
    "names(dim(X2)) <- c(\"I\", \"M\")\n",
    "\n",
    "# J × Q\n",
    "X3 <- matrix(runif(5 * 8), nrow=5, ncol=8)\n",
    "names(dim(X3)) <- c(\"J\", \"N\")\n",
    "\n",
    "# Coupled Tensor/Matrix\n",
    "X <- list(X1 = X1, X2 = X2, X3 = X3)\n",
    "\n",
    "# Coupling matrix R（CP）\n",
    "R_CP <- rbind(\n",
    "    c(1,1,1,0,0),\n",
    "    c(1,0,0,1,0),\n",
    "    c(0,1,0,0,1)\n",
    ")\n",
    "rownames(R_CP) <- paste0(\"X\", seq(3))\n",
    "colnames(R_CP) <- LETTERS[seq(5)]\n",
    "\n",
    "# Size of Factor matrices (CP)\n",
    "Ranks_CP <- list(\n",
    "    A=list(I=4, r=3),\n",
    "    B=list(J=5, r=3),\n",
    "    C=list(K=6, r=3),\n",
    "    D=list(M=7, r=3),\n",
    "    E=list(N=8, r=3))\n",
    "\n",
    "# Coupling matrix R（Tucker）\n",
    "R_Tucker <- rbind(\n",
    "    c(1,1,1,1,0,0),\n",
    "    c(1,0,0,0,1,0),\n",
    "    c(0,1,0,0,0,1)\n",
    ")\n",
    "rownames(R_Tucker) <- paste0(\"X\", seq(3))\n",
    "colnames(R_Tucker) <- LETTERS[seq(6)]\n",
    "\n",
    "# Size of Factor matrices (Tucker)\n",
    "Ranks_Tucker <- list(\n",
    "    A=list(I=4, p=3),\n",
    "    B=list(J=5, q=4),\n",
    "    C=list(K=6, r=3),\n",
    "    D=list(p=3, q=4, r=3),\n",
    "    E=list(M=7, p=3),\n",
    "    F=list(N=8, q=4))"
   ]
  },
  {
   "cell_type": "markdown",
   "metadata": {},
   "source": [
    "## Perform GCTF against Simulation Datasets"
   ]
  },
  {
   "cell_type": "code",
   "execution_count": 4,
   "metadata": {},
   "outputs": [],
   "source": [
    "# CP\n",
    "out.CP_EUC <- GCTF(X, R_CP, Ranks=Ranks_CP, Beta=0)\n",
    "out.CP_KL <- GCTF(X, R_CP, Ranks=Ranks_CP, Beta=1)\n",
    "out.CP_IS <- GCTF(X, R_CP, Ranks=Ranks_CP, Beta=2)\n",
    "\n",
    "# Tucker\n",
    "out.Tucker_EUC <- GCTF(X, R_Tucker, Ranks=Ranks_Tucker, Beta=0)\n",
    "out.Tucker_KL <- GCTF(X, R_Tucker, Ranks=Ranks_Tucker, Beta=1)\n",
    "out.Tucker_IS <- GCTF(X, R_Tucker, Ranks=Ranks_Tucker, Beta=2)"
   ]
  },
  {
   "cell_type": "markdown",
   "metadata": {},
   "source": [
    "## Unit Tests by Synthetic datasets"
   ]
  },
  {
   "cell_type": "code",
   "execution_count": 5,
   "metadata": {},
   "outputs": [],
   "source": [
    "# define `expect_all_*()` because `expect_*()` cannot check if multiple\n",
    "# values are all the same.\n",
    "expect_all_identical <- function(object, ...) {\n",
    "    expects <- list(...)\n",
    "    for (expect in expects) {\n",
    "        expect_identical(object, expect)\n",
    "    }    \n",
    "}\n",
    "expect_all_equal <- function(object, ...) {\n",
    "    expects <- list(...)\n",
    "    for (expect in expects) {\n",
    "        expect_equal(object, expect)\n",
    "    }    \n",
    "}\n",
    "expect_all_equivalent <- function(object, ...) {\n",
    "    expects <- list(...)\n",
    "    for (expect in expects) {\n",
    "        expect_equivalent(object, expect)\n",
    "    }    \n",
    "}\n",
    "\n",
    "# # Success\n",
    "# expect_all_identical(0, 0, 0)\n",
    "# expect_all_equal(0, as.integer(0), 0)\n",
    "#\n",
    "# # Fail\n",
    "# expect_all_identical(0, as.integer(0), 0)"
   ]
  },
  {
   "cell_type": "markdown",
   "metadata": {},
   "source": [
    "### Test Input object / type"
   ]
  },
  {
   "cell_type": "markdown",
   "metadata": {},
   "source": [
    "#### Test I-1: Object Names"
   ]
  },
  {
   "cell_type": "code",
   "execution_count": 6,
   "metadata": {},
   "outputs": [],
   "source": [
    "expect_identical(names(formals(GCTF)), c(\"X\", \"R\", \"M\", \"initZ\", \"fix\", \"Ranks\", \"Beta\", \"num.iter\", \"thr\", \"verbose\"))"
   ]
  },
  {
   "cell_type": "markdown",
   "metadata": {},
   "source": [
    "#### Test I-2: X"
   ]
  },
  {
   "cell_type": "code",
   "execution_count": 7,
   "metadata": {},
   "outputs": [],
   "source": [
    "expect_identical(as.character(formals(GCTF)$X), \"\")"
   ]
  },
  {
   "cell_type": "markdown",
   "metadata": {},
   "source": [
    "#### Test I-3: R"
   ]
  },
  {
   "cell_type": "code",
   "execution_count": 8,
   "metadata": {},
   "outputs": [],
   "source": [
    "expect_identical(as.character(formals(GCTF)$R), \"\")"
   ]
  },
  {
   "cell_type": "markdown",
   "metadata": {},
   "source": [
    "#### Test I-4: M"
   ]
  },
  {
   "cell_type": "code",
   "execution_count": 9,
   "metadata": {},
   "outputs": [],
   "source": [
    "expect_identical(formals(GCTF)$M, NULL)"
   ]
  },
  {
   "cell_type": "markdown",
   "metadata": {},
   "source": [
    "#### Test I-5: initZ"
   ]
  },
  {
   "cell_type": "code",
   "execution_count": 10,
   "metadata": {},
   "outputs": [],
   "source": [
    "expect_identical(formals(GCTF)$initZ, NULL)"
   ]
  },
  {
   "cell_type": "markdown",
   "metadata": {},
   "source": [
    "#### Test I-6: fix"
   ]
  },
  {
   "cell_type": "code",
   "execution_count": 11,
   "metadata": {},
   "outputs": [],
   "source": [
    "expect_identical(formals(GCTF)$fix, NULL)"
   ]
  },
  {
   "cell_type": "markdown",
   "metadata": {},
   "source": [
    "#### Test I-7: Ranks"
   ]
  },
  {
   "cell_type": "code",
   "execution_count": 12,
   "metadata": {},
   "outputs": [],
   "source": [
    "expect_identical(as.character(formals(GCTF)$Ranks), \"\")"
   ]
  },
  {
   "cell_type": "markdown",
   "metadata": {},
   "source": [
    "#### Test I-8: Beta"
   ]
  },
  {
   "cell_type": "code",
   "execution_count": 13,
   "metadata": {},
   "outputs": [],
   "source": [
    "expect_identical(formals(GCTF)$Beta, 1)"
   ]
  },
  {
   "cell_type": "markdown",
   "metadata": {},
   "source": [
    "#### Test I-9: num.iter"
   ]
  },
  {
   "cell_type": "code",
   "execution_count": 14,
   "metadata": {},
   "outputs": [],
   "source": [
    "expect_identical(formals(GCTF)$num.iter, 30)"
   ]
  },
  {
   "cell_type": "markdown",
   "metadata": {},
   "source": [
    "#### Test I-10: thr"
   ]
  },
  {
   "cell_type": "code",
   "execution_count": 15,
   "metadata": {},
   "outputs": [],
   "source": [
    "expect_identical(formals(GCTF)$thr, 1E-10)"
   ]
  },
  {
   "cell_type": "markdown",
   "metadata": {},
   "source": [
    "#### Test I-11: verbose"
   ]
  },
  {
   "cell_type": "code",
   "execution_count": 16,
   "metadata": {},
   "outputs": [],
   "source": [
    "expect_identical(formals(GCTF)$verbose, FALSE)"
   ]
  },
  {
   "cell_type": "markdown",
   "metadata": {},
   "source": [
    "### Test Output object / type"
   ]
  },
  {
   "cell_type": "markdown",
   "metadata": {},
   "source": [
    "#### Test O-1: Object"
   ]
  },
  {
   "cell_type": "code",
   "execution_count": 17,
   "metadata": {},
   "outputs": [],
   "source": [
    "# CP\n",
    "expect_identical(is.list(out.CP_EUC), TRUE)\n",
    "expect_identical(is.list(out.CP_KL), TRUE)\n",
    "expect_identical(is.list(out.CP_IS), TRUE)\n",
    "\n",
    "# Tucker\n",
    "expect_identical(is.list(out.Tucker_EUC), TRUE)\n",
    "expect_identical(is.list(out.Tucker_KL), TRUE)\n",
    "expect_identical(is.list(out.Tucker_IS), TRUE)"
   ]
  },
  {
   "cell_type": "markdown",
   "metadata": {},
   "source": [
    "#### Test O-2: Object Names"
   ]
  },
  {
   "cell_type": "code",
   "execution_count": 18,
   "metadata": {},
   "outputs": [],
   "source": [
    "# CP\n",
    "expect_identical(names(out.CP_EUC), c(\"X\", \"Z\", \"R\", \"Ranks\", \"Beta\", \"num.iter\", \"thr\", \"RecError\", \"RelChange\"))\n",
    "expect_identical(names(out.CP_KL), c(\"X\", \"Z\", \"R\", \"Ranks\", \"Beta\", \"num.iter\", \"thr\", \"RecError\", \"RelChange\"))\n",
    "expect_identical(names(out.CP_IS), c(\"X\", \"Z\", \"R\", \"Ranks\", \"Beta\", \"num.iter\", \"thr\", \"RecError\", \"RelChange\"))\n",
    "\n",
    "# Tucker\n",
    "expect_identical(names(out.Tucker_EUC), c(\"X\", \"Z\", \"R\", \"Ranks\", \"Beta\", \"num.iter\", \"thr\", \"RecError\", \"RelChange\"))\n",
    "expect_identical(names(out.Tucker_KL), c(\"X\", \"Z\", \"R\", \"Ranks\", \"Beta\", \"num.iter\", \"thr\", \"RecError\", \"RelChange\"))\n",
    "expect_identical(names(out.Tucker_IS), c(\"X\", \"Z\", \"R\", \"Ranks\", \"Beta\", \"num.iter\", \"thr\", \"RecError\", \"RelChange\"))"
   ]
  },
  {
   "cell_type": "markdown",
   "metadata": {},
   "source": [
    "#### Test O-3: X"
   ]
  },
  {
   "cell_type": "code",
   "execution_count": 19,
   "metadata": {},
   "outputs": [],
   "source": [
    "# CP\n",
    "expect_identical(out.CP_EUC$X, X)\n",
    "expect_identical(out.CP_KL$X, X)\n",
    "expect_identical(out.CP_IS$X, X)\n",
    "\n",
    "# Tucker\n",
    "expect_identical(out.Tucker_EUC$X, X)\n",
    "expect_identical(out.Tucker_KL$X, X)\n",
    "expect_identical(out.Tucker_IS$X, X)"
   ]
  },
  {
   "cell_type": "markdown",
   "metadata": {},
   "source": [
    "#### Test O-4: Z"
   ]
  },
  {
   "cell_type": "code",
   "execution_count": 20,
   "metadata": {},
   "outputs": [],
   "source": [
    "# CP\n",
    "expect_identical(is.list(out.CP_EUC$Z), TRUE)\n",
    "expect_identical(is.list(out.CP_KL$Z), TRUE)\n",
    "expect_identical(is.list(out.CP_IS$Z), TRUE)\n",
    "\n",
    "# Tucker\n",
    "expect_identical(is.list(out.Tucker_EUC$Z), TRUE)\n",
    "expect_identical(is.list(out.Tucker_KL$Z), TRUE)\n",
    "expect_identical(is.list(out.Tucker_IS$Z), TRUE)"
   ]
  },
  {
   "cell_type": "markdown",
   "metadata": {},
   "source": [
    "#### Test O-5: R"
   ]
  },
  {
   "cell_type": "code",
   "execution_count": 21,
   "metadata": {},
   "outputs": [],
   "source": [
    "# CP\n",
    "expect_identical(out.CP_EUC$R, R_CP)\n",
    "expect_identical(out.CP_KL$R, R_CP)\n",
    "expect_identical(out.CP_IS$R, R_CP)\n",
    "\n",
    "# Tucker\n",
    "expect_identical(out.Tucker_EUC$R, R_Tucker)\n",
    "expect_identical(out.Tucker_KL$R, R_Tucker)\n",
    "expect_identical(out.Tucker_IS$R, R_Tucker)"
   ]
  },
  {
   "cell_type": "markdown",
   "metadata": {},
   "source": [
    "#### Test O-6: Rank"
   ]
  },
  {
   "cell_type": "code",
   "execution_count": 22,
   "metadata": {},
   "outputs": [],
   "source": [
    "# CP\n",
    "expect_identical(out.CP_EUC$Ranks, Ranks_CP)\n",
    "expect_identical(out.CP_KL$Ranks, Ranks_CP)\n",
    "expect_identical(out.CP_IS$Ranks, Ranks_CP)\n",
    "\n",
    "# Tucker\n",
    "expect_identical(out.Tucker_EUC$Ranks, Ranks_Tucker)\n",
    "expect_identical(out.Tucker_KL$Ranks, Ranks_Tucker)\n",
    "expect_identical(out.Tucker_IS$Ranks, Ranks_Tucker)"
   ]
  },
  {
   "cell_type": "markdown",
   "metadata": {},
   "source": [
    "#### Test O-7: Beta"
   ]
  },
  {
   "cell_type": "code",
   "execution_count": 23,
   "metadata": {},
   "outputs": [],
   "source": [
    "# CP\n",
    "expect_identical(out.CP_EUC$Beta, 0)\n",
    "expect_identical(out.CP_KL$Beta, 1)\n",
    "expect_identical(out.CP_IS$Beta, 2)\n",
    "\n",
    "# Tucker\n",
    "expect_identical(out.Tucker_EUC$Beta, 0)\n",
    "expect_identical(out.Tucker_KL$Beta, 1)\n",
    "expect_identical(out.Tucker_IS$Beta, 2)"
   ]
  },
  {
   "cell_type": "markdown",
   "metadata": {},
   "source": [
    "#### Test O-8: num.iter"
   ]
  },
  {
   "cell_type": "code",
   "execution_count": 24,
   "metadata": {},
   "outputs": [],
   "source": [
    "# CP\n",
    "expect_identical(out.CP_EUC$iter, formals(GCTF)$iter)\n",
    "expect_identical(out.CP_KL$iter, formals(GCTF)$iter)\n",
    "expect_identical(out.CP_IS$iter, formals(GCTF)$iter)\n",
    "\n",
    "# Tucker\n",
    "expect_identical(out.Tucker_EUC$iter, formals(GCTF)$iter)\n",
    "expect_identical(out.Tucker_KL$iter, formals(GCTF)$iter)\n",
    "expect_identical(out.Tucker_IS$iter, formals(GCTF)$iter)"
   ]
  },
  {
   "cell_type": "markdown",
   "metadata": {},
   "source": [
    "#### Test O-9: thr"
   ]
  },
  {
   "cell_type": "code",
   "execution_count": 25,
   "metadata": {},
   "outputs": [],
   "source": [
    "# CP\n",
    "expect_identical(out.CP_EUC$thr, formals(GCTF)$thr)\n",
    "expect_identical(out.CP_KL$thr, formals(GCTF)$thr)\n",
    "expect_identical(out.CP_IS$thr, formals(GCTF)$thr)\n",
    "\n",
    "# Tucker\n",
    "expect_identical(out.Tucker_EUC$thr, formals(GCTF)$thr)\n",
    "expect_identical(out.Tucker_KL$thr, formals(GCTF)$thr)\n",
    "expect_identical(out.Tucker_IS$thr, formals(GCTF)$thr)"
   ]
  },
  {
   "cell_type": "markdown",
   "metadata": {},
   "source": [
    "#### Test O-10: RecError"
   ]
  },
  {
   "cell_type": "code",
   "execution_count": 26,
   "metadata": {},
   "outputs": [],
   "source": [
    "# CP\n",
    "expect_identical(is.vector(out.CP_EUC$RecError), TRUE)\n",
    "expect_identical(is.vector(out.CP_KL$RecError), TRUE)\n",
    "expect_identical(is.vector(out.CP_IS$RecError), TRUE)\n",
    "\n",
    "# Tucker\n",
    "expect_identical(is.vector(out.Tucker_EUC$RecError), TRUE)\n",
    "expect_identical(is.vector(out.Tucker_KL$RecError), TRUE)\n",
    "expect_identical(is.vector(out.Tucker_IS$RecError), TRUE)"
   ]
  },
  {
   "cell_type": "markdown",
   "metadata": {},
   "source": [
    "#### Test O-11: RelChange"
   ]
  },
  {
   "cell_type": "code",
   "execution_count": 27,
   "metadata": {},
   "outputs": [],
   "source": [
    "# CP\n",
    "expect_identical(is.vector(out.CP_EUC$RelChange), TRUE)\n",
    "expect_identical(is.vector(out.CP_KL$RelChange), TRUE)\n",
    "expect_identical(is.vector(out.CP_IS$RelChange), TRUE)\n",
    "\n",
    "# Tucker\n",
    "expect_identical(is.vector(out.Tucker_EUC$RelChange), TRUE)\n",
    "expect_identical(is.vector(out.Tucker_KL$RelChange), TRUE)\n",
    "expect_identical(is.vector(out.Tucker_IS$RelChange), TRUE)"
   ]
  },
  {
   "cell_type": "markdown",
   "metadata": {},
   "source": [
    "### Test Non-negative data"
   ]
  },
  {
   "cell_type": "markdown",
   "metadata": {},
   "source": [
    "#### Test NN-1: X"
   ]
  },
  {
   "cell_type": "code",
   "execution_count": 28,
   "metadata": {},
   "outputs": [],
   "source": [
    "NegativeX <- X\n",
    "NegativeX$X2[2, 3] <- -1\n",
    "expect_error(GCTF(NegativeX, R_CP, Ranks=Ranks_CP, Beta=0))"
   ]
  },
  {
   "cell_type": "markdown",
   "metadata": {},
   "source": [
    "### Test Consistency of Objects"
   ]
  },
  {
   "cell_type": "markdown",
   "metadata": {},
   "source": [
    "#### Test C-1: X and Z"
   ]
  },
  {
   "cell_type": "code",
   "execution_count": 29,
   "metadata": {},
   "outputs": [],
   "source": [
    "# CP\n",
    "## I\n",
    "expect_all_identical(\n",
    "    dim(X$X1)[1],\n",
    "    dim(X$X2)[1],\n",
    "    dim(out.CP_EUC$Z$A)[1],\n",
    "    dim(out.CP_KL$Z$A)[1],\n",
    "    dim(out.CP_IS$Z$A)[1])\n",
    "## J\n",
    "expect_all_identical(\n",
    "    dim(X$X1)[2],\n",
    "    dim(X$X3)[1],\n",
    "    dim(out.CP_EUC$Z$B)[1],\n",
    "    dim(out.CP_KL$Z$B)[1],\n",
    "    dim(out.CP_IS$Z$B)[1])\n",
    "## K\n",
    "expect_all_identical(\n",
    "    dim(X$X1)[3],\n",
    "    dim(out.CP_EUC$Z$C)[1],\n",
    "    dim(out.CP_KL$Z$C)[1],\n",
    "    dim(out.CP_IS$Z$C)[1])\n",
    "## M\n",
    "expect_all_identical(\n",
    "    dim(X$X2)[2],\n",
    "    dim(out.CP_EUC$Z$D)[1],\n",
    "    dim(out.CP_KL$Z$D)[1],\n",
    "    dim(out.CP_IS$Z$D)[1])\n",
    "## N\n",
    "expect_all_identical(\n",
    "    dim(X$X3)[2],\n",
    "    dim(out.CP_EUC$Z$E)[1],\n",
    "    dim(out.CP_KL$Z$E)[1],\n",
    "    dim(out.CP_IS$Z$E)[1])\n",
    "\n",
    "# Tucker\n",
    "## I\n",
    "expect_all_identical(\n",
    "    dim(X$X1)[1],\n",
    "    dim(X$X2)[1],\n",
    "    dim(out.Tucker_EUC$Z$A)[1],\n",
    "    dim(out.Tucker_KL$Z$A)[1],\n",
    "    dim(out.Tucker_IS$Z$A)[1])\n",
    "## J\n",
    "expect_all_identical(\n",
    "    dim(X$X1)[2],\n",
    "    dim(X$X3)[1],\n",
    "    dim(out.Tucker_EUC$Z$B)[1],\n",
    "    dim(out.Tucker_KL$Z$B)[1],\n",
    "    dim(out.Tucker_IS$Z$B)[1])\n",
    "## K\n",
    "expect_all_identical(\n",
    "    dim(X$X1)[3],\n",
    "    dim(out.Tucker_EUC$Z$C)[1],\n",
    "    dim(out.Tucker_KL$Z$C)[1],\n",
    "    dim(out.Tucker_IS$Z$C)[1])\n",
    "## M\n",
    "expect_all_identical(\n",
    "    dim(X$X2)[2],\n",
    "    dim(out.Tucker_EUC$Z$E)[1],\n",
    "    dim(out.Tucker_KL$Z$E)[1],\n",
    "    dim(out.Tucker_IS$Z$E)[1])\n",
    "## N\n",
    "expect_all_identical(\n",
    "    dim(X$X3)[2],\n",
    "    dim(out.Tucker_EUC$Z$F)[1],\n",
    "    dim(out.Tucker_KL$Z$F)[1],\n",
    "    dim(out.Tucker_IS$Z$F)[1])"
   ]
  },
  {
   "cell_type": "markdown",
   "metadata": {},
   "source": [
    "#### Test C-2: X and M"
   ]
  },
  {
   "cell_type": "code",
   "execution_count": 30,
   "metadata": {},
   "outputs": [],
   "source": [
    "# Expect no error when partially masked some rows\n",
    "M <- X\n",
    "M$X1 <- M$X1 * 0 + 1\n",
    "# Mask only rows 1:3\n",
    "M$X2 <- M$X2 * 1; M$X2[1:3, 1:7] <- 0  \n",
    "M$X3 <- M$X3 * 0 + 1\n",
    "expect_error(\n",
    "    GCTF(X=X, R=R_CP, M=M, Ranks=Ranks_CP, Beta=0),\n",
    "    regexp=NA)  # regexp=NA means \"there should be no errors\"\n",
    "\n",
    "# Expect error when completely masked some columns\n",
    "M <- X\n",
    "M$X1 <- M$X1 * 0 + 1\n",
    "# Mask some column\n",
    "M$X2 <- M$X2 * 1; M$X2[1:4, 7] <- 0\n",
    "M$X3 <- M$X3 * 0 + 1\n",
    "expect_error(GCTF(X=X, R=R_CP, M=M, Ranks=Ranks_CP, Beta=0))\n",
    "\n",
    "# Expect error when completely masked\n",
    "M <- X\n",
    "M$X1 <- M$X1 * 0 + 1\n",
    "# Mask all rows (1:4)\n",
    "M$X2 <- M$X2 * 1; M$X2[1:4, 1:7] <- 0\n",
    "M$X3 <- M$X3 * 0 + 1\n",
    "expect_error(GCTF(X=X, R=R_CP, M=M, Ranks=Ranks_CP, Beta=0))"
   ]
  },
  {
   "cell_type": "markdown",
   "metadata": {},
   "source": [
    "#### Test C-3: Rank and Z"
   ]
  },
  {
   "cell_type": "code",
   "execution_count": 31,
   "metadata": {},
   "outputs": [],
   "source": [
    "# CP\n",
    "## A\n",
    "expect_all_equal(\n",
    "    unlist(Ranks_CP$A),\n",
    "    dim(out.CP_EUC$Z$A),\n",
    "    dim(out.CP_KL$Z$A),\n",
    "    dim(out.CP_IS$Z$A))\n",
    "## B\n",
    "expect_all_equal(\n",
    "    unlist(Ranks_CP$B),\n",
    "    dim(out.CP_EUC$Z$B),\n",
    "    dim(out.CP_KL$Z$B),\n",
    "    dim(out.CP_IS$Z$B))\n",
    "## C\n",
    "expect_all_equal(\n",
    "    unlist(Ranks_CP$C),\n",
    "    dim(out.CP_EUC$Z$C),\n",
    "    dim(out.CP_KL$Z$C),\n",
    "    dim(out.CP_IS$Z$C))\n",
    "## D\n",
    "expect_all_equal(\n",
    "    unlist(Ranks_CP$D),\n",
    "    dim(out.CP_EUC$Z$D),\n",
    "    dim(out.CP_KL$Z$D),\n",
    "    dim(out.CP_IS$Z$D))\n",
    "## E\n",
    "expect_all_equal(\n",
    "    unlist(Ranks_CP$E),\n",
    "    dim(out.CP_EUC$Z$E),\n",
    "    dim(out.CP_KL$Z$E),\n",
    "    dim(out.CP_IS$Z$E))\n",
    "\n",
    "# Tucker\n",
    "## A\n",
    "expect_all_equal(\n",
    "    unlist(Ranks_Tucker$A),\n",
    "    dim(out.Tucker_EUC$Z$A),\n",
    "    dim(out.Tucker_KL$Z$A),\n",
    "    dim(out.Tucker_IS$Z$A))\n",
    "## B\n",
    "expect_all_equal(\n",
    "    unlist(Ranks_Tucker$B),\n",
    "    dim(out.Tucker_EUC$Z$B),\n",
    "    dim(out.Tucker_KL$Z$B),\n",
    "    dim(out.Tucker_IS$Z$B))\n",
    "## C\n",
    "expect_all_equal(\n",
    "    unlist(Ranks_Tucker$C),\n",
    "    dim(out.Tucker_EUC$Z$C),\n",
    "    dim(out.Tucker_KL$Z$C),\n",
    "    dim(out.Tucker_IS$Z$C))\n",
    "## E\n",
    "expect_all_equal(\n",
    "    unlist(Ranks_Tucker$E),\n",
    "    dim(out.Tucker_EUC$Z$E),\n",
    "    dim(out.Tucker_KL$Z$E),\n",
    "    dim(out.Tucker_IS$Z$E))\n",
    "## F\n",
    "expect_all_equal(\n",
    "    unlist(Ranks_Tucker$F),\n",
    "    dim(out.Tucker_EUC$Z$F),\n",
    "    dim(out.Tucker_KL$Z$F),\n",
    "    dim(out.Tucker_IS$Z$F))"
   ]
  },
  {
   "cell_type": "markdown",
   "metadata": {},
   "source": [
    "#### Test C-4: num.iter, RecError, and RelChange"
   ]
  },
  {
   "cell_type": "code",
   "execution_count": 32,
   "metadata": {},
   "outputs": [],
   "source": [
    "# CP\n",
    "expect_all_equal(\n",
    "    formals(GCTF)$num.iter,\n",
    "    length(out.CP_EUC$RecError),\n",
    "    length(out.CP_KL$RecError),\n",
    "    # length(out.CP_IS$RecError),\n",
    "    length(out.CP_EUC$RelChange),\n",
    "    length(out.CP_KL$RelChange))\n",
    "    # length(out.CP_IS$RelChange))\n",
    "\n",
    "# Tucker\n",
    "expect_all_equal(\n",
    "    formals(GCTF)$num.iter,\n",
    "    length(out.Tucker_EUC$RecError),\n",
    "    length(out.Tucker_KL$RecError),\n",
    "    # length(out.Tucker_IS$RecError),\n",
    "    length(out.Tucker_EUC$RelChange),\n",
    "    length(out.Tucker_KL$RelChange))\n",
    "    # length(out.Tucker_IS$RelChange))"
   ]
  },
  {
   "cell_type": "markdown",
   "metadata": {},
   "source": [
    "### Test Monotonous Decrease of Error"
   ]
  },
  {
   "cell_type": "markdown",
   "metadata": {},
   "source": [
    "#### Test M-1: RecError"
   ]
  },
  {
   "cell_type": "code",
   "execution_count": 33,
   "metadata": {},
   "outputs": [],
   "source": [
    "# CP\n",
    "expect_identical(order(out.CP_EUC$RecError), rev(seq(30)))\n",
    "expect_identical(order(out.CP_KL$RecError), rev(seq(30)))\n",
    "\n",
    "# Not run: In IS case, computation may be unsteady.\n",
    "# expect_identical(order(out.CP_IS$RecError), rev(seq(30)))\n",
    "\n",
    "# Tucker\n",
    "expect_identical(order(out.Tucker_EUC$RecError), rev(seq(30)))\n",
    "expect_identical(order(out.Tucker_KL$RecError), rev(seq(30)))\n",
    "\n",
    "# Not run: In IS case, computation may be unsteady.\n",
    "# expect_identical(order(out.Tucker_IS$RecError), rev(seq(30)))"
   ]
  },
  {
   "cell_type": "markdown",
   "metadata": {},
   "source": [
    "#### Test M-2: RelChange"
   ]
  },
  {
   "cell_type": "code",
   "execution_count": 34,
   "metadata": {},
   "outputs": [
    {
     "ename": "ERROR",
     "evalue": "Error: order(out.CP_IS$RelChange[2:30]) not identical to rev(seq(30 - 1)).\n28/29 mismatches (average diff: 15)\n[1] 6 - 29 == -23\n[2] 5 - 28 == -23\n[3] 4 - 27 == -23\n[4] 3 - 26 == -23\n[5] 1 - 25 == -24\n[6] 2 - 24 == -22\n[7] 7 - 23 == -16\n[8] 8 - 22 == -14\n[9] 9 - 21 == -12\n...\n",
     "output_type": "error",
     "traceback": [
      "Error: order(out.CP_IS$RelChange[2:30]) not identical to rev(seq(30 - 1)).\n28/29 mismatches (average diff: 15)\n[1] 6 - 29 == -23\n[2] 5 - 28 == -23\n[3] 4 - 27 == -23\n[4] 3 - 26 == -23\n[5] 1 - 25 == -24\n[6] 2 - 24 == -22\n[7] 7 - 23 == -16\n[8] 8 - 22 == -14\n[9] 9 - 21 == -12\n...\nTraceback:\n",
      "1. expect_identical(order(out.CP_IS$RelChange[2:30]), rev(seq(30 - \n .     1)))",
      "2. expect(ident, sprintf(\"%s not identical to %s.\\n%s\", act$lab, \n .     exp$lab, msg), info = info)",
      "3. exp_signal(exp)",
      "4. withRestarts(if (expectation_broken(exp)) {\n .     stop(exp)\n . } else {\n .     signalCondition(exp)\n . }, continue_test = function(e) NULL)",
      "5. withOneRestart(expr, restarts[[1L]])",
      "6. doWithOneRestart(return(expr), restart)"
     ]
    }
   ],
   "source": [
    "# first element of RelChange doesn't have to be sequentially ordered.\n",
    "\n",
    "# CP\n",
    "expect_identical(order(out.CP_EUC$RelChange[2:30]), rev(seq(30-1)))\n",
    "expect_identical(order(out.CP_KL$RelChange[2:30]), rev(seq(30-1)))\n",
    "expect_identical(order(out.CP_IS$RelChange[2:30]), rev(seq(30-1)))\n",
    "\n",
    "# Tucker\n",
    "expect_identical(order(out.Tucker_EUC$RelChange[2:30]), rev(seq(30-1)))\n",
    "expect_identical(order(out.Tucker_KL$RelChange[2:30]), rev(seq(30-1)))\n",
    "expect_identical(order(out.Tucker_IS$RelChange[2:30]), rev(seq(30-1)))"
   ]
  },
  {
   "cell_type": "code",
   "execution_count": 35,
   "metadata": {},
   "outputs": [
    {
     "data": {
      "image/png": "[encoded data removed]",
      "text/plain": [
       "plot without title"
      ]
     },
     "metadata": {
      "image/png": {
       "height": 420,
       "width": 420
      }
     },
     "output_type": "display_data"
    },
    {
     "data": {
      "image/png": "[encoded data removed]",
      "text/plain": [
       "plot without title"
      ]
     },
     "metadata": {
      "image/png": {
       "height": 420,
       "width": 420
      }
     },
     "output_type": "display_data"
    }
   ],
   "source": [
    "# Check RecError and RelChange of Tucker EUC\n",
    "plot(out.Tucker_EUC$RecError)\n",
    "plot(out.Tucker_EUC$RelChange, log=\"y\")"
   ]
  },
  {
   "cell_type": "markdown",
   "metadata": {},
   "source": [
    "### Test Estimates"
   ]
  },
  {
   "cell_type": "markdown",
   "metadata": {},
   "source": [
    "#### Test E-1: CP/MF/MF"
   ]
  },
  {
   "cell_type": "code",
   "execution_count": 36,
   "metadata": {
    "scrolled": true
   },
   "outputs": [],
   "source": [
    "# The test in Yilmaz and Umut (2011) is performed using the synthetic data.\n",
    "# No mentions about the scale in the article.\n",
    "# This implementation compares the true and estimated Zs after normalization.\n",
    "\n",
    "set.seed(123)\n",
    "\n",
    "I_test = 30\n",
    "J_test = 30\n",
    "K_test = 30\n",
    "M_test = 30\n",
    "N_test = 30\n",
    "r_test = 5\n",
    "A_test = matrix(runif(I_test*r_test), I_test, r_test); names(dim(A_test)) <- c(\"I\", \"r\")\n",
    "B_test = matrix(runif(J_test*r_test), J_test, r_test); names(dim(B_test)) <- c(\"J\", \"r\")\n",
    "C_test = matrix(runif(K_test*r_test), K_test, r_test); names(dim(C_test)) <- c(\"K\", \"r\")\n",
    "D_test = matrix(runif(M_test*r_test), M_test, r_test); names(dim(D_test)) <- c(\"M\", \"r\")\n",
    "E_test = matrix(runif(N_test*r_test), N_test, r_test); names(dim(E_test)) <- c(\"N\", \"r\")\n",
    "Z_true <- list(A=A_test, B=B_test, C=C_test, D=D_test, E=E_test)\n",
    "X1_test <- array(rep(0, I_test*J_test*K_test), dim=c(I_test, J_test, K_test)); names(dim(X1_test)) <- c(\"I\", \"J\", \"K\")\n",
    "for (i in 1:I_test) {\n",
    "    for (j in 1:J_test) {\n",
    "        for (k in 1:K_test) {\n",
    "            X1_test[i, j, k] <- sum(A_test[i, ] * B_test[j, ] * C_test[k, ])\n",
    "        }\n",
    "    }\n",
    "}\n",
    "X2_test <- array(rep(0, I_test*M_test), dim=c(I_test, M_test)); names(dim(X2_test)) <- c(\"I\", \"M\")\n",
    "for (i in 1:I_test) {\n",
    "    for (m in 1:M_test) {\n",
    "        X2_test[i, m] <- sum(A_test[i, ] * D_test[m, ])\n",
    "    }\n",
    "}\n",
    "X3_test <- array(rep(0, J_test*N_test), dim=c(J_test, N_test)); names(dim(X3_test)) <- c(\"J\", \"N\")\n",
    "for (j in 1:J_test) {\n",
    "    for (n in 1:N_test) {\n",
    "        X3_test[j, n] <- sum(B_test[j, ] * E_test[n, ])\n",
    "    }\n",
    "}\n",
    "X_test <- list(X1=X1_test, X2=X2_test, X3=X3_test)\n",
    "\n",
    "# Visible Indices e.g. I, J, K, P, Q\n",
    "visibleIdxs_a <- .visibleIdxs(X_test)\n",
    "\n",
    "# Latent Indices e.g. p, q, r\n",
    "latentIdxs_a <- .latentIdxs(Ranks_CP, Z_true, visibleIdxs_a)\n",
    "X_dummy <- X_test\n",
    "\n",
    "Ranks_test <- list(\n",
    "    A=list(I=I_test, r=r_test),\n",
    "    B=list(J=J_test, r=r_test),\n",
    "    C=list(K=K_test, r=r_test),\n",
    "    D=list(M=M_test, r=r_test),\n",
    "    E=list(N=N_test, r=r_test))"
   ]
  },
  {
   "cell_type": "code",
   "execution_count": 37,
   "metadata": {},
   "outputs": [],
   "source": [
    "SolveOrthgonalProcrustes <- function(refrence, estimates) {\n",
    "    # To find the correct permutation, for each of Z_alpha \n",
    "    # the matching permutation between the original and estimate found \n",
    "    # by solving an orthgonal Procrustes problem.\n",
    "    svdResult <- svd(t(refrence) %*% estimates)\n",
    "    rotation <- svdResult$u %*% t(svdResult$v)\n",
    "    return(rotation)\n",
    "}\n",
    "\n",
    "RotateEstimates <- function(estimates, rotation) {\n",
    "    return(estimates %*% t(rotation))\n",
    "}"
   ]
  },
  {
   "cell_type": "code",
   "execution_count": 38,
   "metadata": {},
   "outputs": [],
   "source": [
    "# These methods are used for Test E-1: CP/MF/MF\n",
    "# GCTF doesn't use these methods.\n",
    "\n",
    ".MulTensors <- function(tensorList) {    \n",
    "    dims <- unlist(lapply(tensorList, function(x){dim(x)}))\n",
    "    dimnames <- sort(unique(names(dims)))\n",
    "    dims <- dims[dimnames]\n",
    "    tensorListExpand <- lapply(tensorList, function(x){\n",
    "        this_dims <- dim(x)\n",
    "        this_dimnames <- names(this_dims)\n",
    "        missing_dimnames <- setdiff(dimnames, this_dimnames)\n",
    "        missing_dims <- dims[missing_dimnames]    \n",
    "        new_x <- array(rep(x, prod(missing_dims)), c(this_dims, missing_dims))    \n",
    "        new_x <- aperm(new_x, order(names(dim(new_x))))\n",
    "\n",
    "        return(new_x)\n",
    "    })\n",
    "    tensorsProd <- 1\n",
    "    for (tensorExpand in tensorListExpand) {\n",
    "        tensorsProd <- tensorsProd * tensorExpand\n",
    "    }\n",
    "    tensorsProd\n",
    "}\n",
    "\n",
    "# Normalization\n",
    "# compute normalized Z and scaling tensors Lambdas\n",
    ".normalizeFactors <- function(Z, R, latentIdxs) {\n",
    "    \n",
    "    # normalize all factors. \n",
    "    # compute normalized factors and scaling tensors.\n",
    "    \n",
    "    # normalized factors:\n",
    "    #   list. number of elements are same of Z.\n",
    "    #   each elements are tensors.\n",
    "    #   the shape of each elements are same of Zs.\n",
    "    #\n",
    "    # scaling tensors:\n",
    "    #   list. number of eleme-nts are same of Z.\n",
    "    #   each elements are tensors.\n",
    "    #   the length of each elements are\n",
    "    #   number of latent indice of each Zs elements.\n",
    "    #   (for example, scaling tensor S1's shape is [p,q] if Z1 is shape[I,J,p,q])\n",
    "    \n",
    "    normalizedFactors <- list()\n",
    "    scalingTensors <- list()\n",
    "    \n",
    "    # loop for each factors\n",
    "    for (Alpha in seq_len(ncol(R))) {\n",
    "        \n",
    "        latentDimNamesOfZAlpha <- intersect(names(latentIdxs), names(dim(Z[[Alpha]])))\n",
    "        latentIdxLocations <- which(names(dim(Z[[Alpha]])) %in% latentDimNamesOfZAlpha)\n",
    "        latentDimNamesOfZAlpha <- names(dim(Z[[Alpha]]))[latentIdxLocations]\n",
    "\n",
    "        if (length(latentDimNamesOfZAlpha) == 1) {\n",
    "            scalingTensor <- as.array(apply(\n",
    "                    Z[[Alpha]]^2,\n",
    "                    which(names(dim(Z[[Alpha]])) %in% latentDimNamesOfZAlpha),\n",
    "                sum)^(1/2))\n",
    "            names(dim(scalingTensor)) <- latentDimNamesOfZAlpha\n",
    "            normalizedFactor <- .MulTensors(list(Z[[Alpha]], 1 / scalingTensor))\n",
    "        } else {\n",
    "            scalingTensor <- sqrt(sum(Z[[Alpha]]^2))\n",
    "            normalizedFactor <- Z[[Alpha]] / scalingTensor\n",
    "        }        \n",
    "\n",
    "        normalizedFactors[[length(normalizedFactors) + 1]] <- normalizedFactor\n",
    "        scalingTensors[[length(scalingTensors) + 1]] <- scalingTensor\n",
    "    }    \n",
    "    # aggregate scaling tensors of factors into scaling tensors of observational tensors.\n",
    "    \n",
    "    # scaling tensors of observational tensors \n",
    "    #  ... list. number of elements are same of X.\n",
    "    #      each elements are tensors.\n",
    "    #      the dimensions of each elements(=tensor) are\n",
    "    #      all latent indeice of its related factors.\n",
    "    \n",
    "    observationalScalingTensors <- list()\n",
    "    \n",
    "    for (v in seq_len(nrow(R))) {       \n",
    "        scalingTensorsOfRelatedFactors <- list()        \n",
    "        for (Alpha in seq_len(ncol(R))) {\n",
    "            if (R[v, Alpha] == 1) {\n",
    "                scalingTensorsOfRelatedFactors[[length(scalingTensorsOfRelatedFactors) + 1]] <- scalingTensors[[Alpha]]\n",
    "            }\n",
    "        }\n",
    "        observationalScalingTensors[[length(observationalScalingTensors) + 1]] <- \n",
    "            .MulTensors(scalingTensorsOfRelatedFactors)\n",
    "    }\n",
    "    \n",
    "    result <- list(\n",
    "        normalizedFactors = normalizedFactors,\n",
    "        observationalScalingTensors = observationalScalingTensors)\n",
    "    \n",
    "    names(result$normalizedFactors) <- names(Z)\n",
    "    names(result$observationalScalingTensors) <- names(X)\n",
    "\n",
    "    result\n",
    "}"
   ]
  },
  {
   "cell_type": "code",
   "execution_count": 39,
   "metadata": {},
   "outputs": [],
   "source": [
    "# generate initial Z\n",
    ".initZ <- .genLatentVals(X_dummy, R_CP, Ranks_test)\n",
    "\n",
    "# normalize initial Z\n",
    "visibleIdxs <- .visibleIdxs(X_dummy)\n",
    "latentIdxs <- .latentIdxs(Ranks_test, .initZ, visibleIdxs)\n",
    "normalizedInitZ <- .normalizeFactors(.initZ, R_CP, latentIdxs)$normalizedFactors"
   ]
  },
  {
   "cell_type": "code",
   "execution_count": 40,
   "metadata": {},
   "outputs": [],
   "source": [
    "# estimate Z\n",
    "resultGCTF <- GCTF(\n",
    "    X_dummy, R_CP, M=NULL, initZ=.initZ, fix=NULL,\n",
    "    Ranks_test, Beta=1, num.iter=1000, thr=1E-10, verbose=FALSE)"
   ]
  },
  {
   "cell_type": "code",
   "execution_count": 41,
   "metadata": {},
   "outputs": [],
   "source": [
    "# normalize estimated Z\n",
    "normalizedEstimatedZ <- .normalizeFactors(resultGCTF$Z, R_CP, latentIdxs)$normalizedFactors"
   ]
  },
  {
   "cell_type": "code",
   "execution_count": 42,
   "metadata": {},
   "outputs": [
    {
     "data": {
      "image/png": "[encoded data removed]",
      "text/plain": [
       "Plot with title \"A\""
      ]
     },
     "metadata": {
      "image/png": {
       "height": 420,
       "width": 420
      }
     },
     "output_type": "display_data"
    },
    {
     "data": {
      "image/png": "[encoded data removed]",
      "text/plain": [
       "Plot with title \"B\""
      ]
     },
     "metadata": {
      "image/png": {
       "height": 420,
       "width": 420
      }
     },
     "output_type": "display_data"
    },
    {
     "data": {
      "image/png": "[encoded data removed]",
      "text/plain": [
       "Plot with title \"C\""
      ]
     },
     "metadata": {
      "image/png": {
       "height": 420,
       "width": 420
      }
     },
     "output_type": "display_data"
    },
    {
     "data": {
      "image/png": "[encoded data removed]",
      "text/plain": [
       "Plot with title \"D\""
      ]
     },
     "metadata": {
      "image/png": {
       "height": 420,
       "width": 420
      }
     },
     "output_type": "display_data"
    },
    {
     "data": {
      "image/png": "[encoded data removed]",
      "text/plain": [
       "Plot with title \"E\""
      ]
     },
     "metadata": {
      "image/png": {
       "height": 420,
       "width": 420
      }
     },
     "output_type": "display_data"
    }
   ],
   "source": [
    "for (factorName in c(\"A\", \"B\", \"C\", \"D\", \"E\")) {\n",
    "    # plot answer\n",
    "    plot(1:10, (Z_true[[factorName]] / sqrt(colSums(Z_true[[factorName]]^2)))[1:10, 1], type=\"b\", col='black', pch=\"+\", main=factorName, xlab=\"\", ylab=\"\")\n",
    "\n",
    "    # rotate initial Z\n",
    "    rotation <- SolveOrthgonalProcrustes(Z_true[[factorName]], normalizedInitZ[[factorName]])\n",
    "    rotatedEstimates <- RotateEstimates(normalizedInitZ[[factorName]], rotation)\n",
    "\n",
    "    # plot initial Z\n",
    "    lines(1:10, rotatedEstimates[1:10, 1], type=\"b\", col='blue', pch=\"*\")\n",
    "\n",
    "    # rotate estimated Z\n",
    "    rotation <- SolveOrthgonalProcrustes(Z_true[[factorName]], normalizedEstimatedZ[[factorName]])\n",
    "    rotatedEstimates <- RotateEstimates(normalizedEstimatedZ[[factorName]], rotation)\n",
    "\n",
    "    # plot estimated Z\n",
    "    lines(1:10, rotatedEstimates[1:10, 1], type=\"b\", col='red', pch=\"o\")\n",
    "    \n",
    "    if (factorName == 'A') {\n",
    "        legend(\"topleft\", \n",
    "               legend = c(\"Original\", \"Initial\", \"Final\"),\n",
    "               col = c(\"black\", \"blue\", \"red\"),\n",
    "               pch = c(\"+\", \"*\", \"o\"))\n",
    "    }\n",
    "}"
   ]
  },
  {
   "cell_type": "code",
   "execution_count": 43,
   "metadata": {},
   "outputs": [
    {
     "data": {
      "image/png": "[encoded data removed]",
      "text/plain": [
       "Plot with title \"A\""
      ]
     },
     "metadata": {
      "image/png": {
       "height": 420,
       "width": 420
      }
     },
     "output_type": "display_data"
    },
    {
     "data": {
      "image/png": "[encoded data removed]",
      "text/plain": [
       "Plot with title \"B\""
      ]
     },
     "metadata": {
      "image/png": {
       "height": 420,
       "width": 420
      }
     },
     "output_type": "display_data"
    },
    {
     "data": {
      "image/png": "[encoded data removed]",
      "text/plain": [
       "Plot with title \"C\""
      ]
     },
     "metadata": {
      "image/png": {
       "height": 420,
       "width": 420
      }
     },
     "output_type": "display_data"
    },
    {
     "data": {
      "image/png": "[encoded data removed]",
      "text/plain": [
       "Plot with title \"D\""
      ]
     },
     "metadata": {
      "image/png": {
       "height": 420,
       "width": 420
      }
     },
     "output_type": "display_data"
    },
    {
     "data": {
      "image/png": "[encoded data removed]",
      "text/plain": [
       "Plot with title \"E\""
      ]
     },
     "metadata": {
      "image/png": {
       "height": 420,
       "width": 420
      }
     },
     "output_type": "display_data"
    }
   ],
   "source": [
    "# Visualize estimated factors (not normalized)\n",
    "# to check if underflow or overflow happens.\n",
    "for (factorName in c(\"A\", \"B\", \"C\", \"D\", \"E\")) {\n",
    "    ts.plot(resultGCTF$Z[[factorName]], main=factorName, xlab=\"row\", ylab=\"\", col=1:ncol(resultGCTF$Z[[factorName]]))\n",
    "    legend(\"topright\", legend=paste(\"column\", 1:ncol(resultGCTF$Z[[factorName]])), col=1:ncol(resultGCTF$Z[[factorName]]), lty=1, cex=1)\n",
    "}"
   ]
  },
  {
   "cell_type": "markdown",
   "metadata": {},
   "source": [
    "### Test Fixation of Z"
   ]
  },
  {
   "cell_type": "code",
   "execution_count": 44,
   "metadata": {},
   "outputs": [],
   "source": [
    "fixAlphas <- c(TRUE, FALSE, TRUE, FALSE, FALSE)\n",
    "\n",
    "resultGCTF <- GCTF(X_dummy, R_CP, M=NULL, initZ=NULL, fix=NULL, Ranks_test, Beta=1, num.iter=1, thr=1E-10, verbose=FALSE)\n",
    "fixedA <- resultGCTF$Z$A\n",
    "fixedC <- resultGCTF$Z$C\n",
    "initial_Z <- resultGCTF$Z\n",
    "initial_Z$A <- initial_Z$A * 0 + 0.1\n",
    "initial_Z$C <- initial_Z$C * 0 + 0.2\n",
    "resultGCTF <- GCTF(X_dummy, R_CP, M=NULL, initZ=initial_Z, fix=fixAlphas, Ranks_test, Beta=1, num.iter=10, thr=1E-10, verbose=FALSE)\n"
   ]
  },
  {
   "cell_type": "code",
   "execution_count": 45,
   "metadata": {},
   "outputs": [],
   "source": [
    "expect_true(all(resultGCTF$Z$A == initial_Z$A))\n",
    "expect_true(all(resultGCTF$Z$B != initial_Z$B))\n",
    "expect_true(all(resultGCTF$Z$C == initial_Z$C))\n",
    "expect_true(all(resultGCTF$Z$D != initial_Z$D))\n",
    "expect_true(all(resultGCTF$Z$E != initial_Z$E))"
   ]
  },
  {
   "cell_type": "markdown",
   "metadata": {},
   "source": [
    "## Session Information"
   ]
  },
  {
   "cell_type": "code",
   "execution_count": 46,
   "metadata": {},
   "outputs": [
    {
     "data": {
      "text/plain": [
       "R version 4.1.0 (2021-05-18)\n",
       "Platform: x86_64-w64-mingw32/x64 (64-bit)\n",
       "Running under: Windows 10 x64 (build 19044)\n",
       "\n",
       "Matrix products: default\n",
       "\n",
       "locale:\n",
       "[1] LC_COLLATE=Japanese_Japan.932  LC_CTYPE=Japanese_Japan.932   \n",
       "[3] LC_MONETARY=Japanese_Japan.932 LC_NUMERIC=C                  \n",
       "[5] LC_TIME=Japanese_Japan.932    \n",
       "\n",
       "attached base packages:\n",
       "[1] stats     graphics  grDevices utils     datasets  methods   base     \n",
       "\n",
       "other attached packages:\n",
       "[1] einsum_0.1.0   testthat_3.0.4 rTensor_1.4.8 \n",
       "\n",
       "loaded via a namespace (and not attached):\n",
       " [1] Rcpp_1.0.7      magrittr_2.0.1  pkgload_1.2.1   uuid_0.1-4     \n",
       " [5] R6_2.5.1        rlang_0.4.11    fastmap_1.1.0   fansi_0.5.0    \n",
       " [9] tools_4.1.0     waldo_0.3.0     utf8_1.2.2      withr_2.4.2    \n",
       "[13] htmltools_0.5.2 ellipsis_0.3.2  rprojroot_2.0.2 digest_0.6.27  \n",
       "[17] lifecycle_1.0.0 crayon_1.4.1    IRdisplay_1.0   repr_1.1.3     \n",
       "[21] base64enc_0.1-3 vctrs_0.3.8     IRkernel_1.2    glue_1.4.2     \n",
       "[25] evaluate_0.14   pbdZMQ_0.3-5    compiler_4.1.0  pillar_1.6.2   \n",
       "[29] desc_1.3.0      jsonlite_1.7.2 "
      ]
     },
     "metadata": {},
     "output_type": "display_data"
    }
   ],
   "source": [
    "sessionInfo()"
   ]
  }
 ],
 "metadata": {
  "kernelspec": {
   "display_name": "R",
   "language": "R",
   "name": "ir"
  },
  "language_info": {
   "codemirror_mode": "r",
   "file_extension": ".r",
   "mimetype": "text/x-r-source",
   "name": "R",
   "pygments_lexer": "r",
   "version": "4.1.0"
  },
  "toc-autonumbering": true,
  "toc-showmarkdowntxt": false
 },
 "nbformat": 4,
 "nbformat_minor": 4
}
