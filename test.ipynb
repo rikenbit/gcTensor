{
 "cells": [
  {
   "cell_type": "markdown",
   "metadata": {},
   "source": [
    "# Test code of GCTF Function"
   ]
  },
  {
   "cell_type": "markdown",
   "metadata": {},
   "source": [
    "## Dependent Packages Installation"
   ]
  },
  {
   "cell_type": "code",
   "execution_count": null,
   "metadata": {},
   "outputs": [],
   "source": [
    "if (!requireNamespace(\"rTensor\", quietly = TRUE)){\n",
    "    install.packages(\"rTensor\")\n",
    "}\n",
    "if (!requireNamespace(\"testthat\", quietly = TRUE)){\n",
    "    install.packages(\"testthat\")\n",
    "}\n",
    "\n",
    "library(\"rTensor\")\n",
    "library(\"testthat\")"
   ]
  },
  {
   "cell_type": "markdown",
   "metadata": {},
   "source": [
    "## GCTF Function (Paste here)"
   ]
  },
  {
   "cell_type": "code",
   "execution_count": null,
   "metadata": {},
   "outputs": [],
   "source": [
    "GCTF <- function(){\n",
    "    \n",
    "}"
   ]
  },
  {
   "cell_type": "markdown",
   "metadata": {},
   "source": [
    "## Simulation Datasets"
   ]
  },
  {
   "cell_type": "code",
   "execution_count": null,
   "metadata": {},
   "outputs": [],
   "source": [
    "# I × J × K\n",
    "X1 <- rand_tensor(modes = c(4,5,6))\n",
    "X1 <- X1@data^2\n",
    "names(dim(X1)) <- c(\"I\", \"J\", \"K\")\n",
    "\n",
    "# I × P\n",
    "X2 <- matrix(runif(4*7), nrow=4, ncol=7)\n",
    "names(dim(X2)) <- c(\"I\", \"M\")\n",
    "\n",
    "# J × Q\n",
    "X3 <- matrix(runif(5*8), nrow=5, ncol=8)\n",
    "names(dim(X3)) <- c(\"J\", \"N\")\n",
    "\n",
    "# Coupled Tensor/Matrix\n",
    "X <- list(X1 = X1, X2 = X2, X3 = X3)\n",
    "\n",
    "# Coupling matrix R（CP）\n",
    "R_CP <- rbind(\n",
    "    c(1,1,1,0,0),\n",
    "    c(1,0,0,1,0),\n",
    "    c(0,1,0,0,1)\n",
    ")\n",
    "rownames(R_CP) <- paste0(\"X\", seq(3))\n",
    "colnames(R_CP) <- LETTERS[seq(5)]\n",
    "\n",
    "# Size of Factor matrices (CP)\n",
    "Ranks_CP <- list(\n",
    "    A=list(I=4, r=3),\n",
    "    B=list(J=5, r=3),\n",
    "    C=list(K=6, r=3),\n",
    "    D=list(M=7, r=3),\n",
    "    E=list(N=8, r=3))\n",
    "\n",
    "# Coupling matrix R（Tucker）\n",
    "R_Tucker <- rbind(\n",
    "    c(1,1,1,1,0,0),\n",
    "    c(1,0,0,0,1,0),\n",
    "    c(0,1,0,0,0,1)\n",
    ")\n",
    "rownames(R_Tucker) <- paste0(\"X\", seq(3))\n",
    "colnames(R_Tucker) <- LETTERS[seq(6)]\n",
    "\n",
    "# Size of Factor matrices (Tucker)\n",
    "Ranks_Tucker <- list(\n",
    "    A=list(I=4, p=3),\n",
    "    B=list(J=5, q=4),\n",
    "    C=list(K=6, r=5),\n",
    "    D=list(p=3, q=4, r=5),\n",
    "    E=list(M=7, p=3),\n",
    "    F=list(N=8, q=4))"
   ]
  },
  {
   "cell_type": "markdown",
   "metadata": {},
   "source": [
    "## Perform GCTF against Simulation Datasets"
   ]
  },
  {
   "cell_type": "code",
   "execution_count": null,
   "metadata": {},
   "outputs": [],
   "source": [
    "# CP\n",
    "out.CP_EUC <- GCTF(X, R_CP, Ranks=Ranks_CP, Beta=0)\n",
    "out.CP_KL <- GCTF(X, R_CP, Ranks=Ranks_CP, Beta=1)\n",
    "out.CP_IS <- GCTF(X, R_CP, Ranks=Ranks_CP, Beta=2)\n",
    "\n",
    "# Tucker\n",
    "out.CP_EUC <- GCTF(X, R_Tucker, Ranks=Ranks_Tucker, Beta=0)\n",
    "out.Tucker_KL <- GCTF(X, R_Tucker, Ranks=Ranks_Tucker, Beta=1)\n",
    "out.Tucker_IS <- GCTF(X, R_Tucker, Ranks=Ranks_Tucker, Beta=2)"
   ]
  },
  {
   "cell_type": "markdown",
   "metadata": {},
   "source": [
    "## Unit Tests (Synthetic datasets)"
   ]
  },
  {
   "cell_type": "code",
   "execution_count": null,
   "metadata": {},
   "outputs": [],
   "source": [
    "expect_identical()"
   ]
  },
  {
   "cell_type": "markdown",
   "metadata": {},
   "source": [
    "## Real Datasets"
   ]
  },
  {
   "cell_type": "code",
   "execution_count": null,
   "metadata": {},
   "outputs": [],
   "source": []
  },
  {
   "cell_type": "markdown",
   "metadata": {},
   "source": [
    "## Perform GCTF against Real Datasets"
   ]
  },
  {
   "cell_type": "code",
   "execution_count": null,
   "metadata": {},
   "outputs": [],
   "source": []
  },
  {
   "cell_type": "markdown",
   "metadata": {},
   "source": [
    "## Reproduce the result of original paper"
   ]
  },
  {
   "cell_type": "code",
   "execution_count": null,
   "metadata": {},
   "outputs": [],
   "source": []
  }
 ],
 "metadata": {
  "kernelspec": {
   "display_name": "R",
   "language": "R",
   "name": "ir"
  },
  "language_info": {
   "codemirror_mode": "r",
   "file_extension": ".r",
   "mimetype": "text/x-r-source",
   "name": "R",
   "pygments_lexer": "r",
   "version": "4.0.3"
  }
 },
 "nbformat": 4,
 "nbformat_minor": 4
}
